{
 "cells": [
  {
   "cell_type": "code",
   "execution_count": 1,
   "metadata": {},
   "outputs": [],
   "source": [
    "%load_ext autoreload\n",
    "%autoreload 2"
   ]
  },
  {
   "cell_type": "code",
   "execution_count": 2,
   "metadata": {},
   "outputs": [],
   "source": [
    "# Imports\n",
    "import torch\n",
    "import torch.nn as nn\n",
    "import torch.optim as optim\n",
    "from torch.utils.data import DataLoader\n",
    "import pandas as pd\n",
    "from lion_pytorch import Lion\n",
    "import json\n",
    "\n",
    "from vae import VAE\n",
    "from trainer import Finetuner"
   ]
  },
  {
   "cell_type": "code",
   "execution_count": 3,
   "metadata": {},
   "outputs": [],
   "source": [
    "# Parameters to set:\n",
    "n_synthetic_samples = 500\n",
    "data_name = 'one_hot_pNaNs_agep.csv'\n",
    "model_name = 'best_model_pNaNs_agep.pth'\n",
    "\n",
    "latent_dim = 500\n",
    "hidden_dim = 1500"
   ]
  },
  {
   "cell_type": "code",
   "execution_count": 4,
   "metadata": {},
   "outputs": [
    {
     "name": "stdout",
     "output_type": "stream",
     "text": [
      "Device: cpu\n"
     ]
    },
    {
     "name": "stderr",
     "output_type": "stream",
     "text": [
      "/tmp/ipykernel_142272/757797158.py:18: FutureWarning: You are using `torch.load` with `weights_only=False` (the current default value), which uses the default pickle module implicitly. It is possible to construct malicious pickle data which will execute arbitrary code during unpickling (See https://github.com/pytorch/pytorch/blob/main/SECURITY.md#untrusted-models for more details). In a future release, the default value for `weights_only` will be flipped to `True`. This limits the functions that could be executed during unpickling. Arbitrary objects will no longer be allowed to be loaded via this mode unless they are explicitly allowlisted by the user via `torch.serialization.add_safe_globals`. We recommend you start setting `weights_only=True` for any use case where you don't have full control of the loaded file. Please open an issue on GitHub for any issues related to this experimental feature.\n",
      "  params = torch.load(f'workspace/models/{model_name}', map_location=torch.device('cpu') )\n"
     ]
    }
   ],
   "source": [
    "# Device config \n",
    "device = torch.device('cuda' if torch.cuda.is_available() else 'cpu')\n",
    "print(f\"Device: {device}\")\n",
    "\n",
    "\n",
    "# load data and marginals\n",
    "data = pd.read_csv(f'workspace/data/{data_name}')\n",
    "data_tensor = torch.tensor(data.values, dtype=torch.float32)\n",
    "\n",
    "with open('marginals.json') as f:\n",
    "    marginals = json.load(f)\n",
    "\n",
    "# Load model\n",
    "group_sizes = [2, 5, 5, 11, 2, 2, 3, 3, 3, 3, 3, 3, 3, 3, 3, 3, 3, 3, 3, 3, 19, 19, 19, 19, 19, 19, 19, 19, 19, 19, 19, 19, 19, 19, 7, 7, 7, 7, 7, 7, 7, 7, 7, 7, 7, 7, 7, 7]\n",
    "\n",
    "model = VAE(433, hidden_dim, 6, latent_dim, group_sizes)\n",
    "\n",
    "params = torch.load(f'workspace/models/{model_name}', map_location=torch.device('cpu') )\n",
    "model.load_state_dict(params)\n",
    "\n",
    "# Generate synthetic codes - make trainable and put in optimizer\n",
    "trainable_latent_codes = torch.randn(n_synthetic_samples, latent_dim).to(device)\n",
    "trainable_latent_codes.requires_grad = True\n",
    "\n",
    "optimizer = optim.AdamW([trainable_latent_codes], lr = 1e-3)\n"
   ]
  },
  {
   "cell_type": "code",
   "execution_count": 5,
   "metadata": {},
   "outputs": [
    {
     "ename": "AttributeError",
     "evalue": "'list' object has no attribute 'update'",
     "output_type": "error",
     "traceback": [
      "\u001b[0;31m---------------------------------------------------------------------------\u001b[0m",
      "\u001b[0;31mAttributeError\u001b[0m                            Traceback (most recent call last)",
      "Cell \u001b[0;32mIn[5], line 4\u001b[0m\n\u001b[1;32m      1\u001b[0m \u001b[38;5;66;03m# Initialise finetuner\u001b[39;00m\n\u001b[1;32m      2\u001b[0m column_names \u001b[38;5;241m=\u001b[39m \u001b[38;5;28mlist\u001b[39m(data\u001b[38;5;241m.\u001b[39mcolumns)\n\u001b[0;32m----> 4\u001b[0m finetuner \u001b[38;5;241m=\u001b[39m \u001b[43mFinetuner\u001b[49m\u001b[43m(\u001b[49m\u001b[43mcolumn_names\u001b[49m\u001b[43m,\u001b[49m\u001b[43m \u001b[49m\u001b[43mmarginals\u001b[49m\u001b[43m,\u001b[49m\u001b[43m \u001b[49m\u001b[43mmodel\u001b[49m\u001b[43m,\u001b[49m\u001b[43m \u001b[49m\u001b[43moptimizer\u001b[49m\u001b[43m,\u001b[49m\u001b[43m \u001b[49m\u001b[43mdevice\u001b[49m\u001b[43m)\u001b[49m\n",
      "File \u001b[0;32m~/Desktop/UniHeidelberg/GNN/GNN_Project/trainer.py:377\u001b[0m, in \u001b[0;36mFinetuner.__init__\u001b[0;34m(self, column_names, marginals, model, optimizer, device)\u001b[0m\n\u001b[1;32m    374\u001b[0m \u001b[38;5;28mself\u001b[39m\u001b[38;5;241m.\u001b[39mbest_model \u001b[38;5;241m=\u001b[39m \u001b[38;5;28;01mNone\u001b[39;00m\n\u001b[1;32m    376\u001b[0m \u001b[38;5;28mself\u001b[39m\u001b[38;5;241m.\u001b[39mn_marginal_vars \u001b[38;5;241m=\u001b[39m \u001b[38;5;28mlen\u001b[39m(marginals)\n\u001b[0;32m--> 377\u001b[0m \u001b[38;5;28mself\u001b[39m\u001b[38;5;241m.\u001b[39mmatching_indices \u001b[38;5;241m=\u001b[39m \u001b[38;5;28;43mself\u001b[39;49m\u001b[38;5;241;43m.\u001b[39;49m\u001b[43m_get_matching_indices\u001b[49m\u001b[43m(\u001b[49m\u001b[43mmarginals\u001b[49m\u001b[43m,\u001b[49m\u001b[43m \u001b[49m\u001b[43mcolumn_names\u001b[49m\u001b[43m)\u001b[49m\n",
      "File \u001b[0;32m~/Desktop/UniHeidelberg/GNN/GNN_Project/trainer.py:435\u001b[0m, in \u001b[0;36mFinetuner._get_matching_indices\u001b[0;34m(self, marginals, column_names)\u001b[0m\n\u001b[1;32m    430\u001b[0m     matching_indices \u001b[38;5;241m=\u001b[39m [\n\u001b[1;32m    431\u001b[0m         idx \u001b[38;5;28;01mfor\u001b[39;00m idx, col \u001b[38;5;129;01min\u001b[39;00m \u001b[38;5;28menumerate\u001b[39m(column_names) \u001b[38;5;28;01mif\u001b[39;00m pattern\u001b[38;5;241m.\u001b[39mmatch(col)\n\u001b[1;32m    432\u001b[0m     ]\n\u001b[1;32m    433\u001b[0m     personal_var_indices[var] \u001b[38;5;241m=\u001b[39m matching_indices\n\u001b[0;32m--> 435\u001b[0m \u001b[43mmatching_indices\u001b[49m\u001b[38;5;241;43m.\u001b[39;49m\u001b[43mupdate\u001b[49m(personal_var_indices)\n\u001b[1;32m    437\u001b[0m \u001b[38;5;28;01mreturn\u001b[39;00m matching_indices\n",
      "\u001b[0;31mAttributeError\u001b[0m: 'list' object has no attribute 'update'"
     ]
    }
   ],
   "source": [
    "# Initialise finetuner\n",
    "column_names = list(data.columns)\n",
    "\n",
    "finetuner = Finetuner(column_names, marginals, model, optimizer, device)"
   ]
  }
 ],
 "metadata": {
  "kernelspec": {
   "display_name": "GNN",
   "language": "python",
   "name": "python3"
  },
  "language_info": {
   "codemirror_mode": {
    "name": "ipython",
    "version": 3
   },
   "file_extension": ".py",
   "mimetype": "text/x-python",
   "name": "python",
   "nbconvert_exporter": "python",
   "pygments_lexer": "ipython3",
   "version": "3.11.10"
  }
 },
 "nbformat": 4,
 "nbformat_minor": 2
}
