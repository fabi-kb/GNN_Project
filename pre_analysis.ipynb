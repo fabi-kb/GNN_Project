{
 "cells": [
  {
   "cell_type": "code",
   "execution_count": 1,
   "metadata": {},
   "outputs": [],
   "source": [
    "%load_ext autoreload\n",
    "%autoreload 2"
   ]
  },
  {
   "cell_type": "code",
   "execution_count": 2,
   "metadata": {},
   "outputs": [],
   "source": [
    "# Imports\n",
    "import torch\n",
    "import torch.nn as nn\n",
    "import pandas as pd\n",
    "import copy\n",
    "import matplotlib.pyplot as plt\n",
    "import numpy as np\n",
    "from scipy.stats import chisquare"
   ]
  },
  {
   "cell_type": "code",
   "execution_count": 3,
   "metadata": {},
   "outputs": [],
   "source": [
    "from vae import VAE\n",
    "from vae import GroupSoftmax\n",
    "from trainer import Trainer"
   ]
  },
  {
   "cell_type": "code",
   "execution_count": 4,
   "metadata": {},
   "outputs": [
    {
     "name": "stdout",
     "output_type": "stream",
     "text": [
      "Device: cuda\n"
     ]
    }
   ],
   "source": [
    "# Device config \n",
    "device = torch.device('cuda' if torch.cuda.is_available() else 'cpu')\n",
    "print(f\"Device: {device}\")"
   ]
  },
  {
   "cell_type": "code",
   "execution_count": 5,
   "metadata": {},
   "outputs": [],
   "source": [
    "data_name = 'one_hot_allNaNs_agep.csv'\n",
    "model_name = 'model_allNaNs_agep.pth'\n",
    "\n",
    "data_name = 'one_hot_allNaNs_agep_small.csv'\n",
    "model_name = 'model_small.pth'\n"
   ]
  },
  {
   "cell_type": "code",
   "execution_count": 6,
   "metadata": {},
   "outputs": [
    {
     "data": {
      "text/plain": [
       "VAE(\n",
       "  (encoder): Encoder(\n",
       "    (layers): Sequential(\n",
       "      (0): MLPBlock(\n",
       "        (layers): Sequential(\n",
       "          (0): Linear(in_features=439, out_features=1000, bias=True)\n",
       "          (1): BatchNorm1d(1000, eps=1e-05, momentum=0.1, affine=True, track_running_stats=True)\n",
       "          (2): ReLU()\n",
       "        )\n",
       "      )\n",
       "      (1): ResidualBlock(\n",
       "        (mlp1): MLPBlock(\n",
       "          (layers): Sequential(\n",
       "            (0): Linear(in_features=1000, out_features=1000, bias=True)\n",
       "            (1): BatchNorm1d(1000, eps=1e-05, momentum=0.1, affine=True, track_running_stats=True)\n",
       "            (2): ReLU()\n",
       "          )\n",
       "        )\n",
       "        (mlp2): MLPBlock(\n",
       "          (layers): Sequential(\n",
       "            (0): Linear(in_features=1000, out_features=1000, bias=True)\n",
       "            (1): BatchNorm1d(1000, eps=1e-05, momentum=0.1, affine=True, track_running_stats=True)\n",
       "            (2): ReLU()\n",
       "          )\n",
       "        )\n",
       "      )\n",
       "      (2): ResidualBlock(\n",
       "        (mlp1): MLPBlock(\n",
       "          (layers): Sequential(\n",
       "            (0): Linear(in_features=1000, out_features=1000, bias=True)\n",
       "            (1): BatchNorm1d(1000, eps=1e-05, momentum=0.1, affine=True, track_running_stats=True)\n",
       "            (2): ReLU()\n",
       "          )\n",
       "        )\n",
       "        (mlp2): MLPBlock(\n",
       "          (layers): Sequential(\n",
       "            (0): Linear(in_features=1000, out_features=1000, bias=True)\n",
       "            (1): BatchNorm1d(1000, eps=1e-05, momentum=0.1, affine=True, track_running_stats=True)\n",
       "            (2): ReLU()\n",
       "          )\n",
       "        )\n",
       "      )\n",
       "      (3): ResidualBlock(\n",
       "        (mlp1): MLPBlock(\n",
       "          (layers): Sequential(\n",
       "            (0): Linear(in_features=1000, out_features=1000, bias=True)\n",
       "            (1): BatchNorm1d(1000, eps=1e-05, momentum=0.1, affine=True, track_running_stats=True)\n",
       "            (2): ReLU()\n",
       "          )\n",
       "        )\n",
       "        (mlp2): MLPBlock(\n",
       "          (layers): Sequential(\n",
       "            (0): Linear(in_features=1000, out_features=1000, bias=True)\n",
       "            (1): BatchNorm1d(1000, eps=1e-05, momentum=0.1, affine=True, track_running_stats=True)\n",
       "            (2): ReLU()\n",
       "          )\n",
       "        )\n",
       "      )\n",
       "      (4): ResidualBlock(\n",
       "        (mlp1): MLPBlock(\n",
       "          (layers): Sequential(\n",
       "            (0): Linear(in_features=1000, out_features=1000, bias=True)\n",
       "            (1): BatchNorm1d(1000, eps=1e-05, momentum=0.1, affine=True, track_running_stats=True)\n",
       "            (2): ReLU()\n",
       "          )\n",
       "        )\n",
       "        (mlp2): MLPBlock(\n",
       "          (layers): Sequential(\n",
       "            (0): Linear(in_features=1000, out_features=1000, bias=True)\n",
       "            (1): BatchNorm1d(1000, eps=1e-05, momentum=0.1, affine=True, track_running_stats=True)\n",
       "            (2): ReLU()\n",
       "          )\n",
       "        )\n",
       "      )\n",
       "      (5): ResidualBlock(\n",
       "        (mlp1): MLPBlock(\n",
       "          (layers): Sequential(\n",
       "            (0): Linear(in_features=1000, out_features=1000, bias=True)\n",
       "            (1): BatchNorm1d(1000, eps=1e-05, momentum=0.1, affine=True, track_running_stats=True)\n",
       "            (2): ReLU()\n",
       "          )\n",
       "        )\n",
       "        (mlp2): MLPBlock(\n",
       "          (layers): Sequential(\n",
       "            (0): Linear(in_features=1000, out_features=1000, bias=True)\n",
       "            (1): BatchNorm1d(1000, eps=1e-05, momentum=0.1, affine=True, track_running_stats=True)\n",
       "            (2): ReLU()\n",
       "          )\n",
       "        )\n",
       "      )\n",
       "      (6): ResidualBlock(\n",
       "        (mlp1): MLPBlock(\n",
       "          (layers): Sequential(\n",
       "            (0): Linear(in_features=1000, out_features=1000, bias=True)\n",
       "            (1): BatchNorm1d(1000, eps=1e-05, momentum=0.1, affine=True, track_running_stats=True)\n",
       "            (2): ReLU()\n",
       "          )\n",
       "        )\n",
       "        (mlp2): MLPBlock(\n",
       "          (layers): Sequential(\n",
       "            (0): Linear(in_features=1000, out_features=1000, bias=True)\n",
       "            (1): BatchNorm1d(1000, eps=1e-05, momentum=0.1, affine=True, track_running_stats=True)\n",
       "            (2): ReLU()\n",
       "          )\n",
       "        )\n",
       "      )\n",
       "    )\n",
       "    (mu): Linear(in_features=1000, out_features=500, bias=True)\n",
       "    (logvar): Linear(in_features=1000, out_features=500, bias=True)\n",
       "    (mu_bn): BatchNorm1d(500, eps=1e-05, momentum=0.1, affine=True, track_running_stats=True)\n",
       "    (logvar_bn): BatchNorm1d(500, eps=1e-05, momentum=0.1, affine=True, track_running_stats=True)\n",
       "  )\n",
       "  (decoder): Decoder(\n",
       "    (layers): Sequential(\n",
       "      (0): MLPBlock(\n",
       "        (layers): Sequential(\n",
       "          (0): Linear(in_features=500, out_features=1000, bias=True)\n",
       "          (1): BatchNorm1d(1000, eps=1e-05, momentum=0.1, affine=True, track_running_stats=True)\n",
       "          (2): ReLU()\n",
       "        )\n",
       "      )\n",
       "      (1): ResidualBlock(\n",
       "        (mlp1): MLPBlock(\n",
       "          (layers): Sequential(\n",
       "            (0): Linear(in_features=1000, out_features=1000, bias=True)\n",
       "            (1): BatchNorm1d(1000, eps=1e-05, momentum=0.1, affine=True, track_running_stats=True)\n",
       "            (2): ReLU()\n",
       "          )\n",
       "        )\n",
       "        (mlp2): MLPBlock(\n",
       "          (layers): Sequential(\n",
       "            (0): Linear(in_features=1000, out_features=1000, bias=True)\n",
       "            (1): BatchNorm1d(1000, eps=1e-05, momentum=0.1, affine=True, track_running_stats=True)\n",
       "            (2): ReLU()\n",
       "          )\n",
       "        )\n",
       "      )\n",
       "      (2): ResidualBlock(\n",
       "        (mlp1): MLPBlock(\n",
       "          (layers): Sequential(\n",
       "            (0): Linear(in_features=1000, out_features=1000, bias=True)\n",
       "            (1): BatchNorm1d(1000, eps=1e-05, momentum=0.1, affine=True, track_running_stats=True)\n",
       "            (2): ReLU()\n",
       "          )\n",
       "        )\n",
       "        (mlp2): MLPBlock(\n",
       "          (layers): Sequential(\n",
       "            (0): Linear(in_features=1000, out_features=1000, bias=True)\n",
       "            (1): BatchNorm1d(1000, eps=1e-05, momentum=0.1, affine=True, track_running_stats=True)\n",
       "            (2): ReLU()\n",
       "          )\n",
       "        )\n",
       "      )\n",
       "      (3): ResidualBlock(\n",
       "        (mlp1): MLPBlock(\n",
       "          (layers): Sequential(\n",
       "            (0): Linear(in_features=1000, out_features=1000, bias=True)\n",
       "            (1): BatchNorm1d(1000, eps=1e-05, momentum=0.1, affine=True, track_running_stats=True)\n",
       "            (2): ReLU()\n",
       "          )\n",
       "        )\n",
       "        (mlp2): MLPBlock(\n",
       "          (layers): Sequential(\n",
       "            (0): Linear(in_features=1000, out_features=1000, bias=True)\n",
       "            (1): BatchNorm1d(1000, eps=1e-05, momentum=0.1, affine=True, track_running_stats=True)\n",
       "            (2): ReLU()\n",
       "          )\n",
       "        )\n",
       "      )\n",
       "      (4): ResidualBlock(\n",
       "        (mlp1): MLPBlock(\n",
       "          (layers): Sequential(\n",
       "            (0): Linear(in_features=1000, out_features=1000, bias=True)\n",
       "            (1): BatchNorm1d(1000, eps=1e-05, momentum=0.1, affine=True, track_running_stats=True)\n",
       "            (2): ReLU()\n",
       "          )\n",
       "        )\n",
       "        (mlp2): MLPBlock(\n",
       "          (layers): Sequential(\n",
       "            (0): Linear(in_features=1000, out_features=1000, bias=True)\n",
       "            (1): BatchNorm1d(1000, eps=1e-05, momentum=0.1, affine=True, track_running_stats=True)\n",
       "            (2): ReLU()\n",
       "          )\n",
       "        )\n",
       "      )\n",
       "      (5): ResidualBlock(\n",
       "        (mlp1): MLPBlock(\n",
       "          (layers): Sequential(\n",
       "            (0): Linear(in_features=1000, out_features=1000, bias=True)\n",
       "            (1): BatchNorm1d(1000, eps=1e-05, momentum=0.1, affine=True, track_running_stats=True)\n",
       "            (2): ReLU()\n",
       "          )\n",
       "        )\n",
       "        (mlp2): MLPBlock(\n",
       "          (layers): Sequential(\n",
       "            (0): Linear(in_features=1000, out_features=1000, bias=True)\n",
       "            (1): BatchNorm1d(1000, eps=1e-05, momentum=0.1, affine=True, track_running_stats=True)\n",
       "            (2): ReLU()\n",
       "          )\n",
       "        )\n",
       "      )\n",
       "      (6): ResidualBlock(\n",
       "        (mlp1): MLPBlock(\n",
       "          (layers): Sequential(\n",
       "            (0): Linear(in_features=1000, out_features=1000, bias=True)\n",
       "            (1): BatchNorm1d(1000, eps=1e-05, momentum=0.1, affine=True, track_running_stats=True)\n",
       "            (2): ReLU()\n",
       "          )\n",
       "        )\n",
       "        (mlp2): MLPBlock(\n",
       "          (layers): Sequential(\n",
       "            (0): Linear(in_features=1000, out_features=1000, bias=True)\n",
       "            (1): BatchNorm1d(1000, eps=1e-05, momentum=0.1, affine=True, track_running_stats=True)\n",
       "            (2): ReLU()\n",
       "          )\n",
       "        )\n",
       "      )\n",
       "      (7): Linear(in_features=1000, out_features=439, bias=True)\n",
       "      (8): BatchNorm1d(439, eps=1e-05, momentum=0.1, affine=True, track_running_stats=True)\n",
       "      (9): ReLU()\n",
       "      (10): GroupSoftmax()\n",
       "    )\n",
       "  )\n",
       ")"
      ]
     },
     "execution_count": 6,
     "metadata": {},
     "output_type": "execute_result"
    }
   ],
   "source": [
    "# load data \n",
    "data = pd.read_csv(f'/workspace/data/{data_name}')\n",
    "data_tensor = torch.tensor(data.values, dtype=torch.float32)\n",
    "# load model \n",
    "cols = list(data.columns)\n",
    "cols = [col.split(\":\")[0] for col in cols]\n",
    "\n",
    "onehot_counts = {col: sum(data.columns.str.startswith(f\"{col}:\")) for col in cols}\n",
    "group_sizes = list(onehot_counts.values())\n",
    "\n",
    "model = VAE(439, 1000, 6, 500, group_sizes)\n",
    "model.load_state_dict(torch.load(f'/workspace/models/{model_name}'))\n",
    "model.eval()"
   ]
  },
  {
   "cell_type": "code",
   "execution_count": 8,
   "metadata": {},
   "outputs": [
    {
     "name": "stdout",
     "output_type": "stream",
     "text": [
      "ground_truth: (439,)\n",
      "predicted: (439,)\n"
     ]
    }
   ],
   "source": [
    "# sample from the model \n",
    "n_samples = len(data_tensor)\n",
    "\n",
    "# sample from the model\n",
    "sample = model.pretrain_sample(n_samples)\n",
    "predicted = torch.mean(sample, dim=0).detach().cpu().numpy()\n",
    "\n",
    "# apply the group softmax to the data\n",
    "group_softmax = GroupSoftmax(group_sizes)\n",
    "data_softmax = group_softmax(data_tensor)\n",
    "ground_truth = torch.mean(data_softmax, dim=0).detach().cpu().numpy()\n",
    "\n",
    "print(f'ground_truth: {ground_truth.shape}')\n",
    "print(f'predicted: {predicted.shape}')\n"
   ]
  },
  {
   "cell_type": "code",
   "execution_count": 9,
   "metadata": {},
   "outputs": [
    {
     "name": "stdout",
     "output_type": "stream",
     "text": [
      "{'TEN': ['owned or mortgaged', 'rented', 'nan'], 'HHL': ['english', 'spanish', 'other indo-european', 'asian and pacific island languages', 'other', 'nan'], 'VEH': ['no vehicles', '1 vehicle', '2 vehicles', '3 vehicles', '4 or more vehicles', 'nan'], 'HINCP': ['under 5k', '5k-10k', '10k-15k', '15k-20k', '20k-25k', '25k-35k', '35k-50k', '50k-75k', '75k-100k', '100k-150k', '150k+', 'nan'], 'R65': ['no', 'yes', 'nan'], 'R18': ['no', 'yes', 'nan'], 'SEX_1': ['male', 'female', 'nan'], 'SEX_2': ['male', 'female', 'nan'], 'SEX_3': ['male', 'female', 'nan'], 'SEX_4': ['male', 'female', 'nan'], 'SEX_5': ['male', 'female', 'nan'], 'SEX_6': ['male', 'female', 'nan'], 'SEX_7': ['male', 'female', 'nan'], 'SEX_8': ['male', 'female', 'nan'], 'SEX_9': ['male', 'female', 'nan'], 'SEX_10': ['male', 'female', 'nan'], 'SEX_11': ['male', 'female', 'nan'], 'SEX_12': ['male', 'female', 'nan'], 'SEX_13': ['male', 'female', 'nan'], 'SEX_14': ['male', 'female', 'nan'], 'AGEP_1': ['under 5', '5-9', '10-14', '15-19', '20-24', '25-29', '30-34', '35-39', '40-44', '45-49', '50-54', '55-59', '60-64', '65-69', '70-74', '75-79', '80-84', '85+', 'nan'], 'AGEP_2': ['under 5', '5-9', '10-14', '15-19', '20-24', '25-29', '30-34', '35-39', '40-44', '45-49', '50-54', '55-59', '60-64', '65-69', '70-74', '75-79', '80-84', '85+', 'nan'], 'AGEP_3': ['under 5', '5-9', '10-14', '15-19', '20-24', '25-29', '30-34', '35-39', '40-44', '45-49', '50-54', '55-59', '60-64', '65-69', '70-74', '75-79', '80-84', '85+', 'nan'], 'AGEP_4': ['under 5', '5-9', '10-14', '15-19', '20-24', '25-29', '30-34', '35-39', '40-44', '45-49', '50-54', '55-59', '60-64', '65-69', '70-74', '75-79', '80-84', '85+', 'nan'], 'AGEP_5': ['under 5', '5-9', '10-14', '15-19', '20-24', '25-29', '30-34', '35-39', '40-44', '45-49', '50-54', '55-59', '60-64', '65-69', '70-74', '75-79', '80-84', '85+', 'nan'], 'AGEP_6': ['under 5', '5-9', '10-14', '15-19', '20-24', '25-29', '30-34', '35-39', '40-44', '45-49', '50-54', '55-59', '60-64', '65-69', '70-74', '75-79', '80-84', '85+', 'nan'], 'AGEP_7': ['under 5', '5-9', '10-14', '15-19', '20-24', '25-29', '30-34', '35-39', '40-44', '45-49', '50-54', '55-59', '60-64', '65-69', '70-74', '75-79', '80-84', '85+', 'nan'], 'AGEP_8': ['under 5', '5-9', '10-14', '15-19', '20-24', '25-29', '30-34', '35-39', '40-44', '45-49', '50-54', '55-59', '60-64', '65-69', '70-74', '75-79', '80-84', '85+', 'nan'], 'AGEP_9': ['under 5', '5-9', '10-14', '15-19', '20-24', '25-29', '30-34', '35-39', '40-44', '45-49', '50-54', '55-59', '60-64', '65-69', '70-74', '75-79', '80-84', '85+', 'nan'], 'AGEP_10': ['under 5', '5-9', '10-14', '15-19', '20-24', '25-29', '30-34', '35-39', '40-44', '45-49', '50-54', '55-59', '60-64', '65-69', '70-74', '75-79', '80-84', '85+', 'nan'], 'AGEP_11': ['under 5', '5-9', '10-14', '15-19', '20-24', '25-29', '30-34', '35-39', '40-44', '45-49', '50-54', '55-59', '60-64', '65-69', '70-74', '75-79', '80-84', '85+', 'nan'], 'AGEP_12': ['under 5', '5-9', '10-14', '15-19', '20-24', '25-29', '30-34', '35-39', '40-44', '45-49', '50-54', '55-59', '60-64', '65-69', '70-74', '75-79', '80-84', '85+', 'nan'], 'AGEP_13': ['under 5', '5-9', '10-14', '15-19', '20-24', '25-29', '30-34', '35-39', '40-44', '45-49', '50-54', '55-59', '60-64', '65-69', '70-74', '75-79', '80-84', '85+', 'nan'], 'AGEP_14': ['under 5', '5-9', '10-14', '15-19', '20-24', '25-29', '30-34', '35-39', '40-44', '45-49', '50-54', '55-59', '60-64', '65-69', '70-74', '75-79', '80-84', '85+', 'nan'], 'SCHL_1': ['other', 'less than high school', 'high school', 'college or associate', 'bachelor', 'graduate', 'nan'], 'SCHL_2': ['other', 'less than high school', 'high school', 'college or associate', 'bachelor', 'graduate', 'nan'], 'SCHL_3': ['other', 'less than high school', 'high school', 'college or associate', 'bachelor', 'graduate', 'nan'], 'SCHL_4': ['other', 'less than high school', 'high school', 'college or associate', 'bachelor', 'graduate', 'nan'], 'SCHL_5': ['other', 'less than high school', 'high school', 'college or associate', 'bachelor', 'graduate', 'nan'], 'SCHL_6': ['other', 'less than high school', 'high school', 'college or associate', 'bachelor', 'graduate', 'nan'], 'SCHL_7': ['other', 'less than high school', 'high school', 'college or associate', 'bachelor', 'graduate', 'nan'], 'SCHL_8': ['other', 'less than high school', 'high school', 'college or associate', 'bachelor', 'graduate', 'nan'], 'SCHL_9': ['other', 'less than high school', 'high school', 'college or associate', 'bachelor', 'graduate', 'nan'], 'SCHL_10': ['other', 'less than high school', 'high school', 'college or associate', 'bachelor', 'graduate', 'nan'], 'SCHL_11': ['other', 'less than high school', 'high school', 'college or associate', 'bachelor', 'graduate', 'nan'], 'SCHL_12': ['other', 'less than high school', 'high school', 'college or associate', 'bachelor', 'graduate', 'nan'], 'SCHL_13': ['other', 'less than high school', 'high school', 'college or associate', 'bachelor', 'graduate', 'nan'], 'SCHL_14': ['other', 'less than high school', 'high school', 'college or associate', 'bachelor', 'graduate', 'nan']}\n",
      "{'TEN': [0, 1, 2], 'HHL': [3, 4, 5, 6, 7, 8], 'VEH': [9, 10, 11, 12, 13, 14], 'HINCP': [15, 16, 17, 18, 19, 20, 21, 22, 23, 24, 25, 26], 'R65': [27, 28, 29], 'R18': [30, 31, 32], 'SEX_1': [33, 34, 35], 'SEX_2': [36, 37, 38], 'SEX_3': [39, 40, 41], 'SEX_4': [42, 43, 44], 'SEX_5': [45, 46, 47], 'SEX_6': [48, 49, 50], 'SEX_7': [51, 52, 53], 'SEX_8': [54, 55, 56], 'SEX_9': [57, 58, 59], 'SEX_10': [60, 61, 62], 'SEX_11': [63, 64, 65], 'SEX_12': [66, 67, 68], 'SEX_13': [69, 70, 71], 'SEX_14': [72, 73, 74], 'AGEP_1': [75, 76, 77, 78, 79, 80, 81, 82, 83, 84, 85, 86, 87, 88, 89, 90, 91, 92, 93], 'AGEP_2': [94, 95, 96, 97, 98, 99, 100, 101, 102, 103, 104, 105, 106, 107, 108, 109, 110, 111, 112], 'AGEP_3': [113, 114, 115, 116, 117, 118, 119, 120, 121, 122, 123, 124, 125, 126, 127, 128, 129, 130, 131], 'AGEP_4': [132, 133, 134, 135, 136, 137, 138, 139, 140, 141, 142, 143, 144, 145, 146, 147, 148, 149, 150], 'AGEP_5': [151, 152, 153, 154, 155, 156, 157, 158, 159, 160, 161, 162, 163, 164, 165, 166, 167, 168, 169], 'AGEP_6': [170, 171, 172, 173, 174, 175, 176, 177, 178, 179, 180, 181, 182, 183, 184, 185, 186, 187, 188], 'AGEP_7': [189, 190, 191, 192, 193, 194, 195, 196, 197, 198, 199, 200, 201, 202, 203, 204, 205, 206, 207], 'AGEP_8': [208, 209, 210, 211, 212, 213, 214, 215, 216, 217, 218, 219, 220, 221, 222, 223, 224, 225, 226], 'AGEP_9': [227, 228, 229, 230, 231, 232, 233, 234, 235, 236, 237, 238, 239, 240, 241, 242, 243, 244, 245], 'AGEP_10': [246, 247, 248, 249, 250, 251, 252, 253, 254, 255, 256, 257, 258, 259, 260, 261, 262, 263, 264], 'AGEP_11': [265, 266, 267, 268, 269, 270, 271, 272, 273, 274, 275, 276, 277, 278, 279, 280, 281, 282, 283], 'AGEP_12': [284, 285, 286, 287, 288, 289, 290, 291, 292, 293, 294, 295, 296, 297, 298, 299, 300, 301, 302], 'AGEP_13': [303, 304, 305, 306, 307, 308, 309, 310, 311, 312, 313, 314, 315, 316, 317, 318, 319, 320, 321], 'AGEP_14': [322, 323, 324, 325, 326, 327, 328, 329, 330, 331, 332, 333, 334, 335, 336, 337, 338, 339, 340], 'SCHL_1': [341, 342, 343, 344, 345, 346, 347], 'SCHL_2': [348, 349, 350, 351, 352, 353, 354], 'SCHL_3': [355, 356, 357, 358, 359, 360, 361], 'SCHL_4': [362, 363, 364, 365, 366, 367, 368], 'SCHL_5': [369, 370, 371, 372, 373, 374, 375], 'SCHL_6': [376, 377, 378, 379, 380, 381, 382], 'SCHL_7': [383, 384, 385, 386, 387, 388, 389], 'SCHL_8': [390, 391, 392, 393, 394, 395, 396], 'SCHL_9': [397, 398, 399, 400, 401, 402, 403], 'SCHL_10': [404, 405, 406, 407, 408, 409, 410], 'SCHL_11': [411, 412, 413, 414, 415, 416, 417], 'SCHL_12': [418, 419, 420, 421, 422, 423, 424], 'SCHL_13': [425, 426, 427, 428, 429, 430, 431], 'SCHL_14': [432, 433, 434, 435, 436, 437, 438]}\n"
     ]
    }
   ],
   "source": [
    "# prepare dicts and namings for plotting\n",
    "labels = list(data.columns)\n",
    "labels = [label.split(\":\") for label in labels]\n",
    "feature_label_dict = {}\n",
    "for key, label in labels:\n",
    "    if key in feature_label_dict:\n",
    "        feature_label_dict[key].append(label) \n",
    "    else:\n",
    "        feature_label_dict[key] = [label]\n",
    "\n",
    "indices = {}\n",
    "\n",
    "for key, label in labels:\n",
    "    if key in indices:\n",
    "        indices[key].append(data.columns.get_loc(f\"{key}:{label}\"))\n",
    "    else:\n",
    "        indices[key] = [data.columns.get_loc(f\"{key}:{label}\")]\n",
    "\n",
    "print(feature_label_dict)\n",
    "print(indices)\n",
    "#data_dict = {data.columns}"
   ]
  },
  {
   "cell_type": "code",
   "execution_count": 10,
   "metadata": {},
   "outputs": [],
   "source": [
    "ten_dict = {key: [] for key in feature_label_dict['TEN']}\n",
    "hhl_dict = {key: [] for key in feature_label_dict['HHL']}\n",
    "veh_dict = {key: [] for key in feature_label_dict['VEH']}\n",
    "hincp_dict = {key: [] for key in feature_label_dict['HINCP']}\n",
    "sex_dict = {key: [] for key in feature_label_dict['SEX_1']}\n",
    "education_dict = {key: [] for key in feature_label_dict['SCHL_1']}\n",
    "age_dict = {key: [] for key in feature_label_dict['AGEP_1']}\n",
    "r18_dict = {key: [] for key in feature_label_dict['R18']}\n",
    "r65_dict = {key: [] for key in feature_label_dict['R65']}\n",
    "\n",
    "# create dicts for the groups and their indices \n",
    "for key, labels in feature_label_dict.items():\n",
    "    if 'SEX' in key:\n",
    "        for idx, label in enumerate(labels):\n",
    "            sex_dict[label].append(indices[key][idx])\n",
    "    elif 'SCHL' in key:\n",
    "        for idx, label in enumerate(labels):\n",
    "            education_dict[label].append(indices[key][idx])\n",
    "    elif 'AGEP' in key:\n",
    "        for idx, label in enumerate(labels):\n",
    "            age_dict[label].append(indices[key][idx])\n",
    "    elif 'TEN' in key:\n",
    "        for idx, label in enumerate(labels):\n",
    "            ten_dict[label].append(indices[key][idx])\n",
    "    elif 'HHL' in key:\n",
    "        for idx, label in enumerate(labels):\n",
    "            hhl_dict[label].append(indices[key][idx])\n",
    "    elif 'VEH' in key:\n",
    "        for idx, label in enumerate(labels):\n",
    "            veh_dict[label].append(indices[key][idx])\n",
    "    elif 'HINCP' in key:\n",
    "        for idx, label in enumerate(labels):\n",
    "            hincp_dict[label].append(indices[key][idx])\n",
    "    elif 'R18' in key:\n",
    "        for idx, label in enumerate(labels):\n",
    "            r18_dict[label].append(indices[key][idx])\n",
    "    elif 'R65' in key:\n",
    "        for idx, label in enumerate(labels):\n",
    "            r65_dict[label].append(indices[key][idx])\n",
    "\n",
    "\n"
   ]
  },
  {
   "cell_type": "code",
   "execution_count": 11,
   "metadata": {},
   "outputs": [],
   "source": [
    "def expected_count(data, dict):\n",
    "    counts = np.empty((len(dict.keys())-1,len(data)))\n",
    "    for i, key in enumerate(dict.keys()):\n",
    "        if key == 'nan':\n",
    "            break\n",
    "        for idx, row in enumerate(data):\n",
    "            tmp = row[dict[key]]\n",
    "            nans = row[dict['nan']]\n",
    "            \n",
    "            # rule out the nans equal to 1\n",
    "            valid_mask = (nans != 1)\n",
    "            counts[i, idx] = np.mean(tmp[valid_mask]/(1-nans[valid_mask]))\n",
    "    return np.mean(counts, axis=1)\n"
   ]
  },
  {
   "cell_type": "code",
   "execution_count": 12,
   "metadata": {},
   "outputs": [],
   "source": [
    "# rewrite the cell above into a function\n",
    "def plot_group(group_name, ground_truth, predicted, label_dict, category_dict):\n",
    "    fig, ax = plt.subplots()\n",
    "    labels = copy.deepcopy(label_dict)\n",
    "    gt_mean = expected_count(ground_truth, category_dict)\n",
    "    pr_mean = expected_count(predicted, category_dict)\n",
    "    # normalize \n",
    "    gt_mean /= np.sum(gt_mean)\n",
    "    pr_mean /= np.sum(pr_mean)\n",
    "    p_value = chisquare(gt_mean, pr_mean).pvalue\n",
    "    x = np.arange(len(labels[group_name])-1) # remove nan  \n",
    "    width = 0.35\n",
    "    labels[group_name].remove('nan')\n",
    "    keys = labels[group_name]\n",
    "    ax.bar(x - width/2, gt_mean, width, label='Ground Truth')\n",
    "    ax.bar(x + width/2, pr_mean, width, label='Predicted')\n",
    "    ax.set_ylabel('Probability')\n",
    "    ax.set_title(group_name)\n",
    "    ax.set_xticks(x)\n",
    "    ax.set_xticklabels(keys)\n",
    "    ax.legend()\n",
    "    x_max = ax.get_xlim()[1]  # Rightmost x value\n",
    "    y_min, y_max = ax.get_ylim()  # Bottom and top of y-axis\n",
    "\n",
    "    # Place p-value inside the plot area (bottom-right, but not outside the axes)\n",
    "    ax.text(x_max - 0.05, y_min + (y_max - y_min) * 0.1,  # Adjusted for inside placement\n",
    "            f'p-value: {p_value:.2f}', \n",
    "            fontsize=12, verticalalignment='bottom', horizontalalignment='right', \n",
    "            bbox=dict(facecolor='white', edgecolor='black', boxstyle='round,pad=0.3'))\n",
    "    plt.xticks(rotation=70)\n",
    "    plt.tight_layout()\n",
    "    plt.savefig(f'/workspace/GNN_Project/plots/{group_name}.png', bbox_inches='tight')\n",
    "    plt.close()"
   ]
  },
  {
   "cell_type": "code",
   "execution_count": 13,
   "metadata": {},
   "outputs": [],
   "source": [
    "ground_truth = data_softmax.detach().cpu().numpy()\n",
    "predicted = sample.detach().cpu().numpy()\n",
    "\n",
    "#plot_group('TEN', ground_truth, predicted, feature_label_dict, ten_dict)\n",
    "#plot_group('HHL', ground_truth, predicted, feature_label_dict, hhl_dict)\n",
    "#plot_group('VEH', ground_truth, predicted, feature_label_dict, veh_dict)\n",
    "#plot_group('HINCP', ground_truth, predicted, feature_label_dict, hincp_dict)\n",
    "#plot_group('R18', ground_truth, predicted, feature_label_dict, r18_dict)\n",
    "#plot_group('R65', ground_truth, predicted, feature_label_dict, r65_dict)"
   ]
  },
  {
   "cell_type": "code",
   "execution_count": 13,
   "metadata": {},
   "outputs": [],
   "source": [
    "# plot the sex and education group without the average \n",
    "plot_group('SEX_1', ground_truth, predicted, feature_label_dict, sex_dict)\n",
    "plot_group('SCHL_1', ground_truth, predicted, feature_label_dict, education_dict)\n",
    "plot_group('AGEP_1', ground_truth, predicted, feature_label_dict, age_dict)"
   ]
  },
  {
   "cell_type": "markdown",
   "metadata": {},
   "source": [
    "# RSME and KL"
   ]
  },
  {
   "cell_type": "code",
   "execution_count": 14,
   "metadata": {},
   "outputs": [],
   "source": [
    "def rsme(gt, pred):\n",
    "    sq = (gt-pred)**2\n",
    "    print(sq.shape)\n",
    "    mean = np.mean(sq)\n",
    "    print(mean.shape)\n",
    "    return np.sqrt(mean)\n",
    "\n",
    "def kl_div(gt, pred, er):\n",
    "    return np.sum((pred+er)*np.log((pred+er)/(gt+er)), axis=0)"
   ]
  },
  {
   "cell_type": "code",
   "execution_count": 15,
   "metadata": {},
   "outputs": [
    {
     "name": "stdout",
     "output_type": "stream",
     "text": [
      "{'owned or mortgaged': [0], 'rented': [1], 'nan': [2]}\n"
     ]
    }
   ],
   "source": [
    "print(ten_dict)"
   ]
  },
  {
   "cell_type": "code",
   "execution_count": 16,
   "metadata": {},
   "outputs": [
    {
     "name": "stdout",
     "output_type": "stream",
     "text": [
      "[0, 1, 2]\n",
      "(3156, 3)\n",
      "(3156, 439)\n",
      "[[0.5761169 0.5761169 0.5761169]\n",
      " [0.5761169 0.5761169 0.5761169]\n",
      " [0.5761169 0.5761169 0.5761169]\n",
      " [0.5761169 0.5761169 0.5761169]\n",
      " [0.5761169 0.5761169 0.5761169]]\n",
      "[[0.8779763  0.87726545 0.8764128 ]\n",
      " [0.87578195 0.870265   0.8689189 ]\n",
      " [0.8758347  0.87025416 0.86615855]\n",
      " [0.8836367  0.87803125 0.87772286]\n",
      " [0.88294667 0.8801619  0.8787878 ]]\n"
     ]
    }
   ],
   "source": [
    "tenList = list()\n",
    "\n",
    "test_gt = np.flip(np.sort(ground_truth))\n",
    "test_pred = np.flip(np.sort(predicted))\n",
    "for key in ten_dict.keys():\n",
    "    tenList += ten_dict[key]\n",
    "\n",
    "print(tenList)\n",
    "print(ground_truth[:, tenList].shape)\n",
    "print(data.shape)\n",
    "\n",
    "print(test_gt[0:5, tenList])\n",
    "print(test_pred[0:5, tenList])"
   ]
  },
  {
   "cell_type": "code",
   "execution_count": 17,
   "metadata": {},
   "outputs": [
    {
     "name": "stdout",
     "output_type": "stream",
     "text": [
      "(3156, 3)\n",
      "()\n",
      "0.122536846\n",
      "[144.36917   87.4704   -29.076506]\n"
     ]
    }
   ],
   "source": [
    "print(rsme(ground_truth[:, tenList], predicted[:, tenList]))\n",
    "print(kl_div(ground_truth[:, tenList], predicted[:, tenList], 1e-8))"
   ]
  },
  {
   "cell_type": "code",
   "execution_count": 18,
   "metadata": {},
   "outputs": [
    {
     "name": "stdout",
     "output_type": "stream",
     "text": [
      "torch.Size([1, 439])\n",
      "\n",
      "tensor(0.0309, grad_fn=<MinBackward1>) tensor(0.8245, grad_fn=<MaxBackward1>)\n",
      "tensor(0.0483) tensor(0.5761)\n",
      "(1, 439)\n",
      "()\n",
      "0.07925806\n"
     ]
    }
   ],
   "source": [
    "# investigation \n",
    "\n",
    "t_data_tensor = data_tensor[1:2, :]\n",
    "print(t_data_tensor.shape)\n",
    "forward, _ , _ = model(t_data_tensor)\n",
    "t_softmax = group_softmax(t_data_tensor)\n",
    "print()\n",
    "#print(forward)\n",
    "print(torch.min(forward), torch.max(forward))\n",
    "print(torch.min(t_softmax), torch.max(t_softmax))\n",
    "print(rsme(t_softmax.detach().cpu().numpy(), forward.detach().cpu().numpy()))"
   ]
  },
  {
   "cell_type": "code",
   "execution_count": 19,
   "metadata": {},
   "outputs": [
    {
     "name": "stdout",
     "output_type": "stream",
     "text": [
      "torch.Size([3156, 500])\n",
      "(3156, 2)\n"
     ]
    },
    {
     "data": {
      "image/png": "[encoded data removed]",
      "text/plain": [
       "<Figure size 640x480 with 1 Axes>"
      ]
     },
     "metadata": {},
     "output_type": "display_data"
    }
   ],
   "source": [
    "# check if encoded data is truly gaussian \n",
    "encoded, _, _ = model.encoder(data_tensor)\n",
    "print(encoded.shape)\n",
    "# apply pca to the encoded data\n",
    "from sklearn.decomposition import PCA\n",
    "\n",
    "pca = PCA(n_components=2)\n",
    "pca.fit(encoded.detach().cpu().numpy())\n",
    "pca_data = pca.transform(encoded.detach().cpu().numpy())\n",
    "print(pca_data.shape)\n",
    "plt.scatter(pca_data[:, 0], pca_data[:, 1])\n",
    "plt.show()"
   ]
  },
  {
   "cell_type": "code",
   "execution_count": 20,
   "metadata": {},
   "outputs": [
    {
     "name": "stdout",
     "output_type": "stream",
     "text": [
      "torch.Size([3156, 439])\n",
      "torch.Size([3156, 48])\n",
      "True\n"
     ]
    }
   ],
   "source": [
    "# check if the reconstruction sums up to 1 for each group\n",
    "reconstruction, _, _ = model(data_tensor)\n",
    "\n",
    "print(reconstruction.shape)\n",
    "\n",
    "# sum over all the groups, reconstruction is already softmaxed\n",
    "start = 0 \n",
    "group_sums = []\n",
    "\n",
    "for size in group_sizes:\n",
    "    chunk = reconstruction[:, start:start+size]\n",
    "    start += size\n",
    "    group_sums.append(torch.sum(chunk, dim=1))\n",
    "\n",
    "group_sums = torch.stack(group_sums, dim=1)\n",
    "print(group_sums.shape)\n",
    "print(torch.allclose(group_sums, torch.ones_like(group_sums), rtol=1e-5, atol=1e-5))"
   ]
  },
  {
   "cell_type": "code",
   "execution_count": null,
   "metadata": {},
   "outputs": [],
   "source": []
  }
 ],
 "metadata": {
  "kernelspec": {
   "display_name": "base",
   "language": "python",
   "name": "python3"
  },
  "language_info": {
   "codemirror_mode": {
    "name": "ipython",
    "version": 3
   },
   "file_extension": ".py",
   "mimetype": "text/x-python",
   "name": "python",
   "nbconvert_exporter": "python",
   "pygments_lexer": "ipython3",
   "version": "3.10.13"
  }
 },
 "nbformat": 4,
 "nbformat_minor": 2
}
