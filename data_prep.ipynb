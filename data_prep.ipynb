{
 "cells": [
  {
   "cell_type": "code",
   "execution_count": 2,
   "metadata": {},
   "outputs": [],
   "source": [
    "import pandas as pd\n",
    "import numpy as np"
   ]
  },
  {
   "cell_type": "code",
   "execution_count": 3,
   "metadata": {},
   "outputs": [],
   "source": [
    "#df_h_a = pd.read_csv('A:/csv_hus/psam_husa.csv')\n",
    "#df_h_b = pd.read_csv('A:/csv_hus/psam_husb.csv')\n",
    "#df_h_c = pd.read_csv('A:/csv_hus/psam_husc.csv')\n",
    "#df_h_d = pd.read_csv('A:/csv_hus/psam_husd.csv')\n",
    "\n",
    "#df_p_a = pd.read_csv('A:/csv_pus/psam_pusa.csv')\n",
    "#df_p_b = pd.read_csv('A:/csv_pus/psam_pusb.csv')\n",
    "#df_p_c = pd.read_csv('A:/csv_pus/psam_pusc.csv')\n",
    "#df_p_d = pd.read_csv('A:/csv_pus/psam_pusd.csv')\n",
    "\n",
    "\n",
    "# loading the delaware data \n",
    "df_h = pd.read_csv('/mnt/a/csv_hde/psam_h10.csv')\n",
    "df_p = pd.read_csv('/mnt/a/csv_pde/psam_p10.csv')"
   ]
  },
  {
   "cell_type": "code",
   "execution_count": 4,
   "metadata": {},
   "outputs": [],
   "source": [
    "h_colums_to_keep = ['SERIALNO', 'TEN', 'HHL', 'VEH', 'HINCP', 'R65', 'R18']\n",
    "p_colums_to_keep = ['SERIALNO', 'SEX', 'AGEP', 'SCHL'] \n",
    "#df_h_a_filtered = df_h_a.filter(items=h_colums_to_keep).dropna()\n",
    "#df_h_b_filtered = df_h_b.filter(items=h_colums_to_keep).dropna()\n",
    "#df_h_c_filtered = df_h_c.filter(items=h_colums_to_keep).dropna()\n",
    "#df_h_d_filtered = df_h_d.filter(items=h_colums_to_keep).dropna()\n",
    "\n",
    "#df_p_a_filtered = df_p_a.filter(items=p_colums_to_keep).dropna()\n",
    "#df_p_b_filtered = df_p_b.filter(items=p_colums_to_keep).dropna()\n",
    "#df_p_c_filtered = df_p_c.filter(items=p_colums_to_keep).dropna()\n",
    "#df_p_d_filtered = df_p_d.filter(items=p_colums_to_keep).dropna()\n",
    "\n",
    "df_h_filtered = df_h.filter(items=h_colums_to_keep).dropna()\n",
    "df_p_filtered = df_p.filter(items=p_colums_to_keep).dropna()"
   ]
  },
  {
   "cell_type": "code",
   "execution_count": 5,
   "metadata": {},
   "outputs": [
    {
     "name": "stdout",
     "output_type": "stream",
     "text": [
      "          SERIALNO  TEN  HHL  VEH     HINCP  R65  R18\n",
      "380  2018HU0000173  1.0  1.0  2.0   70000.0  2.0  0.0\n",
      "381  2018HU0001350  1.0  1.0  0.0   22500.0  1.0  0.0\n",
      "383  2018HU0001544  1.0  2.0  1.0   26400.0  2.0  0.0\n",
      "384  2018HU0002139  1.0  5.0  1.0  200000.0  0.0  1.0\n",
      "386  2018HU0002776  1.0  2.0  2.0   20000.0  0.0  1.0\n",
      "<class 'pandas.core.frame.DataFrame'>\n",
      "Index: 19026 entries, 380 to 23570\n",
      "Data columns (total 7 columns):\n",
      " #   Column    Non-Null Count  Dtype  \n",
      "---  ------    --------------  -----  \n",
      " 0   SERIALNO  19026 non-null  object \n",
      " 1   TEN       19026 non-null  float64\n",
      " 2   HHL       19026 non-null  float64\n",
      " 3   VEH       19026 non-null  float64\n",
      " 4   HINCP     19026 non-null  float64\n",
      " 5   R65       19026 non-null  float64\n",
      " 6   R18       19026 non-null  float64\n",
      "dtypes: float64(6), object(1)\n",
      "memory usage: 1.2+ MB\n",
      "None\n"
     ]
    }
   ],
   "source": [
    "#df_h_clean = pd.concat([df_h_a_filtered, df_h_b_filtered, df_h_c_filtered, df_h_d_filtered])\n",
    "df_h_clean = df_h_filtered\n",
    "df_p_clean = df_p_filtered\n",
    "print(df_h_filtered.head())\n",
    "print(df_h_filtered.info())\n"
   ]
  },
  {
   "cell_type": "code",
   "execution_count": 6,
   "metadata": {},
   "outputs": [
    {
     "name": "stdout",
     "output_type": "stream",
     "text": [
      "        SERIALNO  TEN  HHL  VEH    HINCP  R65  R18  SEX  AGEP  SCHL\n",
      "0  2018HU0000173  1.0  1.0  2.0  70000.0  2.0  0.0    1    70  21.0\n",
      "1  2018HU0000173  1.0  1.0  2.0  70000.0  2.0  0.0    2    73  21.0\n",
      "2  2018HU0001350  1.0  1.0  0.0  22500.0  1.0  0.0    2    40  12.0\n",
      "3  2018HU0001350  1.0  1.0  0.0  22500.0  1.0  0.0    1    40  12.0\n",
      "4  2018HU0001350  1.0  1.0  0.0  22500.0  1.0  0.0    2    70  22.0\n",
      "<class 'pandas.core.frame.DataFrame'>\n",
      "RangeIndex: 42643 entries, 0 to 42642\n",
      "Data columns (total 10 columns):\n",
      " #   Column    Non-Null Count  Dtype  \n",
      "---  ------    --------------  -----  \n",
      " 0   SERIALNO  42643 non-null  object \n",
      " 1   TEN       42643 non-null  float64\n",
      " 2   HHL       42643 non-null  float64\n",
      " 3   VEH       42643 non-null  float64\n",
      " 4   HINCP     42643 non-null  float64\n",
      " 5   R65       42643 non-null  float64\n",
      " 6   R18       42643 non-null  float64\n",
      " 7   SEX       42643 non-null  int64  \n",
      " 8   AGEP      42643 non-null  int64  \n",
      " 9   SCHL      42643 non-null  float64\n",
      "dtypes: float64(7), int64(2), object(1)\n",
      "memory usage: 3.3+ MB\n",
      "None\n"
     ]
    }
   ],
   "source": [
    "# merge the two dataframes on the SERIALNO column\n",
    "df = pd.merge(df_h_clean, df_p_clean, on='SERIALNO', how='inner')\n",
    "print(df.head())\n",
    "print(df.info())\n"
   ]
  },
  {
   "cell_type": "code",
   "execution_count": 8,
   "metadata": {},
   "outputs": [
    {
     "name": "stdout",
     "output_type": "stream",
     "text": [
      "        SERIALNO  TEN  HHL  VEH    HINCP  R65  R18  SEX  AGEP  SCHL  ORDER\n",
      "0  2018HU0000173  1.0  1.0  2.0  70000.0  2.0  0.0    1    70  21.0      1\n",
      "1  2018HU0000173  1.0  1.0  2.0  70000.0  2.0  0.0    2    73  21.0      2\n",
      "2  2018HU0001350  1.0  1.0  0.0  22500.0  1.0  0.0    2    40  12.0      1\n",
      "3  2018HU0001350  1.0  1.0  0.0  22500.0  1.0  0.0    1    40  12.0      2\n",
      "4  2018HU0001350  1.0  1.0  0.0  22500.0  1.0  0.0    2    70  22.0      4\n",
      "<class 'pandas.core.frame.DataFrame'>\n",
      "RangeIndex: 42643 entries, 0 to 42642\n",
      "Data columns (total 11 columns):\n",
      " #   Column    Non-Null Count  Dtype  \n",
      "---  ------    --------------  -----  \n",
      " 0   SERIALNO  42643 non-null  object \n",
      " 1   TEN       42643 non-null  float64\n",
      " 2   HHL       42643 non-null  float64\n",
      " 3   VEH       42643 non-null  float64\n",
      " 4   HINCP     42643 non-null  float64\n",
      " 5   R65       42643 non-null  float64\n",
      " 6   R18       42643 non-null  float64\n",
      " 7   SEX       42643 non-null  int64  \n",
      " 8   AGEP      42643 non-null  int64  \n",
      " 9   SCHL      42643 non-null  float64\n",
      " 10  ORDER     42643 non-null  int64  \n",
      "dtypes: float64(7), int64(3), object(1)\n",
      "memory usage: 3.6+ MB\n",
      "None\n"
     ]
    }
   ],
   "source": [
    "# create a ordering for the later appending of the households \n",
    "df_sorted = df.sort_values(by=['SERIALNO', 'AGEP'], ascending=[True, True])\n",
    "df['ORDER'] = df_sorted.groupby('SERIALNO').cumcount()+1\n",
    "print(df.head())\n",
    "print(df.info())\n"
   ]
  },
  {
   "cell_type": "code",
   "execution_count": 9,
   "metadata": {},
   "outputs": [],
   "source": [
    "# Apply the grouping to each continuous variable\n",
    "\n",
    "hincp_bins = [0, 5000, 10000, 15000, 20000, 25000, 35000, 50000, 75000, 100000, 150000, np.inf]\n",
    "hincp_labels = ['under 5k', '5k-10k', '10k-15k', '15k-20k', '20k-25k', '25k-35k', '35k-50k', '50k-75k', '75k-100k', '100k-150k', '150k+']\n",
    "\n",
    "# right = False: right open, left closed\n",
    "df['HINCP'] = pd.cut(df['HINCP'], bins=hincp_bins, labels=hincp_labels, right=False, include_lowest=True)\n",
    "#df = df[df['HINCP'] != 'excluded']"
   ]
  },
  {
   "cell_type": "code",
   "execution_count": 10,
   "metadata": {},
   "outputs": [],
   "source": [
    "TEN_bins = [0, 2, 3]\n",
    "TEN_labels = ['owned or mortgaged', 'rented']\n",
    "\n",
    "df['TEN'] = pd.cut(df['TEN'], bins=TEN_bins, labels=TEN_labels)"
   ]
  },
  {
   "cell_type": "code",
   "execution_count": 11,
   "metadata": {},
   "outputs": [],
   "source": [
    "R18_bins = [0, 1, 2]\n",
    "R18_labels = ['no', 'yes']\n",
    "\n",
    "# right = False: right open, left closed\n",
    "df['R18'] = pd.cut(df['R18'], bins=R18_bins, labels=R18_labels, right=False, include_lowest=True)\n",
    "\n",
    "R65_bins = [0, 1, 2]\n",
    "R65_labels = ['no', 'yes']\n",
    "\n",
    "df['R65'] = pd.cut(df['R65'], bins=R65_bins, labels=R65_labels, right=False, include_lowest=True)\n",
    "\n",
    "# test dataframe to see correct binning\n",
    "\n",
    "#test = pd.DataFrame()\n",
    "#test['R18'] = [0, 1, 2]\n",
    "#\n",
    "#test['R18'] = pd.cut(test['R18'], bins=R18_bins, labels=R18_labels, right=False, include_lowest=True)\n",
    "#\n",
    "#print(test)"
   ]
  },
  {
   "cell_type": "code",
   "execution_count": 12,
   "metadata": {},
   "outputs": [],
   "source": [
    "HHL_bins = [0, 1, 2, 3, 4, np.inf]\n",
    "HHL_labels = ['english', 'spanish', 'other indo-european', 'asian and pacific island languages', 'other']\n",
    "\n",
    "# test dataframe to see if bins are correct \n",
    "#test = pd.DataFrame()\n",
    "#test['HHL'] = [0, 1, 2, 3]\n",
    "#test['HHL'] = pd.cut(test['HHL'], bins=HHL_bins, labels=HHL_labels)\n",
    "\n",
    "#print(test)\n",
    "\n",
    "df['HHL'] = pd.cut(df['HHL'], bins=HHL_bins, labels=HHL_labels)"
   ]
  },
  {
   "cell_type": "code",
   "execution_count": 13,
   "metadata": {},
   "outputs": [],
   "source": [
    "VEH_bins = [0, 1, 2, 3, 4, np.inf]\n",
    "VEH_labels = ['no vehicles', '1 vehicle', '2 vehicles', '3 vehicles', '4 or more vehicles'] \n",
    "\n",
    "df['VEH'] = pd.cut(df['VEH'], bins=VEH_bins, labels=VEH_labels, include_lowest=True, right=False)\n",
    "\n",
    "\n",
    "#test = pd.DataFrame()\n",
    "#test['VEH'] = [0, 1, 2, 3, 4, 5]\n",
    "#test['VEH'] = pd.cut(test['VEH'], bins=VEH_bins, labels=VEH_labels, include_lowest=True, right=False)\n",
    "#\n",
    "#print(test)"
   ]
  },
  {
   "cell_type": "code",
   "execution_count": 14,
   "metadata": {},
   "outputs": [],
   "source": [
    "SEX_bins = [0, 1, 2]\n",
    "SEX_labels = ['male', 'female']\n",
    "\n",
    "df['SEX'] = pd.cut(df['SEX'], bins=SEX_bins, labels=SEX_labels)"
   ]
  },
  {
   "cell_type": "code",
   "execution_count": 15,
   "metadata": {},
   "outputs": [],
   "source": [
    "AGEP_bins = [0, 5, 10, 15, 20, 25, 30, 35, 40, 45, 50, 55, 60, 65, 70, 75, 80, 85, np.inf]\n",
    "AGEP_labels = ['under 5', '5-9', '10-14', '15-19', '20-24', '25-29', '30-34', '35-39', '40-44', '45-49', '50-54', '55-59', '60-64', '65-69', '70-74', '75-79', '80-84', '85+']\n",
    "\n",
    "df['AGEP'] = pd.cut(df['AGEP'], bins=AGEP_bins, labels=AGEP_labels, right=False, include_lowest=True)\n",
    "\n"
   ]
  },
  {
   "cell_type": "code",
   "execution_count": 16,
   "metadata": {},
   "outputs": [],
   "source": [
    "SCHL_bins = [0, 4, 12, 18, 21, 22, np.inf]\n",
    "\n",
    "SCHL_labels = ['other', 'less than high school', 'high school', 'college or associate', 'bachelor', 'graduate']\n",
    "#\n",
    "df['SCHL'] = pd.cut(df['SCHL'], bins=SCHL_bins, labels=SCHL_labels, right=False, include_lowest=True)\n",
    "\n",
    "\n",
    "#test = pd.DataFrame()\n",
    "#test['SCHL'] = [0, 1, 2, 3, 4, 5, 6, 7, 8, 9, 10, 11, 12, 13, 14, 15, 16, 17, 18, 19, 20, 21, 22, 23, 24, 25]\n",
    "#test['SCHL'] = pd.cut(test['SCHL'], bins=SCHL_bins, labels=SCHL_labels, right=False, include_lowest=True)\n",
    "##\n",
    "#print(test)"
   ]
  },
  {
   "cell_type": "code",
   "execution_count": 19,
   "metadata": {},
   "outputs": [],
   "source": [
    "df.dropna(inplace=True)"
   ]
  },
  {
   "cell_type": "code",
   "execution_count": 20,
   "metadata": {},
   "outputs": [
    {
     "name": "stdout",
     "output_type": "stream",
     "text": [
      "        SERIALNO                 TEN      HHL          VEH    HINCP  R65  R18  \\\n",
      "2  2018HU0001350  owned or mortgaged  english  no vehicles  20k-25k  yes   no   \n",
      "3  2018HU0001350  owned or mortgaged  english  no vehicles  20k-25k  yes   no   \n",
      "4  2018HU0001350  owned or mortgaged  english  no vehicles  20k-25k  yes   no   \n",
      "5  2018HU0001350  owned or mortgaged  english  no vehicles  20k-25k  yes   no   \n",
      "8  2018HU0002139  owned or mortgaged    other    1 vehicle    150k+   no  yes   \n",
      "\n",
      "      SEX   AGEP                   SCHL  ORDER  \n",
      "2  female  40-44            high school      1  \n",
      "3    male  40-44            high school      2  \n",
      "4  female  70-74               graduate      4  \n",
      "5    male  40-44  less than high school      3  \n",
      "8  female  50-54               graduate      2  \n",
      "<class 'pandas.core.frame.DataFrame'>\n",
      "Index: 34252 entries, 2 to 42640\n",
      "Data columns (total 11 columns):\n",
      " #   Column    Non-Null Count  Dtype   \n",
      "---  ------    --------------  -----   \n",
      " 0   SERIALNO  34252 non-null  object  \n",
      " 1   TEN       34252 non-null  category\n",
      " 2   HHL       34252 non-null  category\n",
      " 3   VEH       34252 non-null  category\n",
      " 4   HINCP     34252 non-null  category\n",
      " 5   R65       34252 non-null  category\n",
      " 6   R18       34252 non-null  category\n",
      " 7   SEX       34252 non-null  category\n",
      " 8   AGEP      34252 non-null  category\n",
      " 9   SCHL      34252 non-null  category\n",
      " 10  ORDER     34252 non-null  int64   \n",
      "dtypes: category(9), int64(1), object(1)\n",
      "memory usage: 1.1+ MB\n",
      "None\n"
     ]
    }
   ],
   "source": [
    "print(df.head())\n",
    "print(df.info())"
   ]
  },
  {
   "cell_type": "code",
   "execution_count": 30,
   "metadata": {},
   "outputs": [
    {
     "name": "stdout",
     "output_type": "stream",
     "text": [
      "<class 'pandas.core.frame.DataFrame'>\n",
      "Index: 15256 entries, 2 to 42638\n",
      "Data columns (total 7 columns):\n",
      " #   Column    Non-Null Count  Dtype   \n",
      "---  ------    --------------  -----   \n",
      " 0   SERIALNO  15256 non-null  object  \n",
      " 1   TEN       15256 non-null  category\n",
      " 2   HHL       15256 non-null  category\n",
      " 3   VEH       15256 non-null  category\n",
      " 4   HINCP     15256 non-null  category\n",
      " 5   R65       15256 non-null  category\n",
      " 6   R18       15256 non-null  category\n",
      "dtypes: category(6), object(1)\n",
      "memory usage: 328.9+ KB\n",
      "None\n",
      "<class 'pandas.core.frame.DataFrame'>\n",
      "RangeIndex: 15256 entries, 0 to 15255\n",
      "Data columns (total 43 columns):\n",
      " #   Column    Non-Null Count  Dtype   \n",
      "---  ------    --------------  -----   \n",
      " 0   SERIALNO  15256 non-null  object  \n",
      " 1   SEX_1     15256 non-null  category\n",
      " 2   SEX_2     9974 non-null   category\n",
      " 3   SEX_3     4948 non-null   category\n",
      " 4   SEX_4     2615 non-null   category\n",
      " 5   SEX_5     962 non-null    category\n",
      " 6   SEX_6     318 non-null    category\n",
      " 7   SEX_7     108 non-null    category\n",
      " 8   SEX_8     37 non-null     category\n",
      " 9   SEX_9     17 non-null     category\n",
      " 10  SEX_10    8 non-null      category\n",
      " 11  SEX_11    5 non-null      category\n",
      " 12  SEX_12    2 non-null      category\n",
      " 13  SEX_13    1 non-null      category\n",
      " 14  SEX_14    1 non-null      category\n",
      " 15  AGEP_1    15256 non-null  category\n",
      " 16  AGEP_2    9974 non-null   category\n",
      " 17  AGEP_3    4948 non-null   category\n",
      " 18  AGEP_4    2615 non-null   category\n",
      " 19  AGEP_5    962 non-null    category\n",
      " 20  AGEP_6    318 non-null    category\n",
      " 21  AGEP_7    108 non-null    category\n",
      " 22  AGEP_8    37 non-null     category\n",
      " 23  AGEP_9    17 non-null     category\n",
      " 24  AGEP_10   8 non-null      category\n",
      " 25  AGEP_11   5 non-null      category\n",
      " 26  AGEP_12   2 non-null      category\n",
      " 27  AGEP_13   1 non-null      category\n",
      " 28  AGEP_14   1 non-null      category\n",
      " 29  SCHL_1    15256 non-null  category\n",
      " 30  SCHL_2    9974 non-null   category\n",
      " 31  SCHL_3    4948 non-null   category\n",
      " 32  SCHL_4    2615 non-null   category\n",
      " 33  SCHL_5    962 non-null    category\n",
      " 34  SCHL_6    318 non-null    category\n",
      " 35  SCHL_7    108 non-null    category\n",
      " 36  SCHL_8    37 non-null     category\n",
      " 37  SCHL_9    17 non-null     category\n",
      " 38  SCHL_10   8 non-null      category\n",
      " 39  SCHL_11   5 non-null      category\n",
      " 40  SCHL_12   2 non-null      category\n",
      " 41  SCHL_13   1 non-null      category\n",
      " 42  SCHL_14   1 non-null      category\n",
      "dtypes: category(42), object(1)\n",
      "memory usage: 759.3+ KB\n",
      "None\n"
     ]
    }
   ],
   "source": [
    "# converting the df to having only one entry per serialno\n",
    "\n",
    "static_cols = h_colums_to_keep\n",
    "static_df = df[static_cols].drop_duplicates('SERIALNO')\n",
    "\n",
    "#print(static_df.head())\n",
    "print(static_df.info())\n",
    "\n",
    "attributes = ['SEX', 'AGEP', 'SCHL']\n",
    "\n",
    "pivoted_df = []\n",
    "\n",
    "for attribute in attributes:\n",
    "    tmp = df.pivot(index='SERIALNO', columns='ORDER', values=attribute)\n",
    "    tmp.columns = [f'{attribute}_{col}' for col in tmp.columns]\n",
    "    pivoted_df.append(tmp)\n",
    "\n",
    "pivoted_df = pd.concat(pivoted_df, axis=1)\n",
    "pivoted_df.reset_index(inplace=True)\n",
    "#print(pivoted_df.head())\n",
    "print(pivoted_df.info())\n",
    "\n",
    "#df_flattened = pd.concat([static_df, pivoted_df], axis=0)#.drop('SERIALNO', axis=1)\n",
    "df_flattened = pd.merge(static_df, pivoted_df, on='SERIALNO', how='inner').drop('SERIALNO', axis=1)\n",
    "#print(df_flattened.head())\n",
    "#print(df_flattened.info())\n",
    "\n",
    "\n"
   ]
  },
  {
   "cell_type": "code",
   "execution_count": 22,
   "metadata": {},
   "outputs": [
    {
     "name": "stdout",
     "output_type": "stream",
     "text": [
      "                  TEN                                 HHL          VEH  \\\n",
      "0  owned or mortgaged                             english  no vehicles   \n",
      "1  owned or mortgaged                               other    1 vehicle   \n",
      "2  owned or mortgaged                             spanish   2 vehicles   \n",
      "3  owned or mortgaged                             english    1 vehicle   \n",
      "4              rented  asian and pacific island languages    1 vehicle   \n",
      "\n",
      "       HINCP  R65  R18   SEX_1   SEX_2   SEX_3   SEX_4  ...       SCHL_5  \\\n",
      "0    20k-25k  yes   no  female    male    male  female  ...          NaN   \n",
      "1      150k+   no  yes  female  female    male     NaN  ...          NaN   \n",
      "2    20k-25k   no  yes  female  female  female  female  ...  high school   \n",
      "3    35k-50k  yes   no    male     NaN     NaN     NaN  ...          NaN   \n",
      "4  100k-150k   no   no  female     NaN     NaN     NaN  ...          NaN   \n",
      "\n",
      "        SCHL_6 SCHL_7 SCHL_8 SCHL_9 SCHL_10 SCHL_11 SCHL_12 SCHL_13 SCHL_14  \n",
      "0          NaN    NaN    NaN    NaN     NaN     NaN     NaN     NaN     NaN  \n",
      "1          NaN    NaN    NaN    NaN     NaN     NaN     NaN     NaN     NaN  \n",
      "2  high school    NaN    NaN    NaN     NaN     NaN     NaN     NaN     NaN  \n",
      "3          NaN    NaN    NaN    NaN     NaN     NaN     NaN     NaN     NaN  \n",
      "4          NaN    NaN    NaN    NaN     NaN     NaN     NaN     NaN     NaN  \n",
      "\n",
      "[5 rows x 48 columns]\n",
      "<class 'pandas.core.frame.DataFrame'>\n",
      "RangeIndex: 15256 entries, 0 to 15255\n",
      "Data columns (total 48 columns):\n",
      " #   Column   Non-Null Count  Dtype   \n",
      "---  ------   --------------  -----   \n",
      " 0   TEN      15256 non-null  category\n",
      " 1   HHL      15256 non-null  category\n",
      " 2   VEH      15256 non-null  category\n",
      " 3   HINCP    15256 non-null  category\n",
      " 4   R65      15256 non-null  category\n",
      " 5   R18      15256 non-null  category\n",
      " 6   SEX_1    15256 non-null  category\n",
      " 7   SEX_2    9974 non-null   category\n",
      " 8   SEX_3    4948 non-null   category\n",
      " 9   SEX_4    2615 non-null   category\n",
      " 10  SEX_5    962 non-null    category\n",
      " 11  SEX_6    318 non-null    category\n",
      " 12  SEX_7    108 non-null    category\n",
      " 13  SEX_8    37 non-null     category\n",
      " 14  SEX_9    17 non-null     category\n",
      " 15  SEX_10   8 non-null      category\n",
      " 16  SEX_11   5 non-null      category\n",
      " 17  SEX_12   2 non-null      category\n",
      " 18  SEX_13   1 non-null      category\n",
      " 19  SEX_14   1 non-null      category\n",
      " 20  AGEP_1   15256 non-null  category\n",
      " 21  AGEP_2   9974 non-null   category\n",
      " 22  AGEP_3   4948 non-null   category\n",
      " 23  AGEP_4   2615 non-null   category\n",
      " 24  AGEP_5   962 non-null    category\n",
      " 25  AGEP_6   318 non-null    category\n",
      " 26  AGEP_7   108 non-null    category\n",
      " 27  AGEP_8   37 non-null     category\n",
      " 28  AGEP_9   17 non-null     category\n",
      " 29  AGEP_10  8 non-null      category\n",
      " 30  AGEP_11  5 non-null      category\n",
      " 31  AGEP_12  2 non-null      category\n",
      " 32  AGEP_13  1 non-null      category\n",
      " 33  AGEP_14  1 non-null      category\n",
      " 34  SCHL_1   15256 non-null  category\n",
      " 35  SCHL_2   9974 non-null   category\n",
      " 36  SCHL_3   4948 non-null   category\n",
      " 37  SCHL_4   2615 non-null   category\n",
      " 38  SCHL_5   962 non-null    category\n",
      " 39  SCHL_6   318 non-null    category\n",
      " 40  SCHL_7   108 non-null    category\n",
      " 41  SCHL_8   37 non-null     category\n",
      " 42  SCHL_9   17 non-null     category\n",
      " 43  SCHL_10  8 non-null      category\n",
      " 44  SCHL_11  5 non-null      category\n",
      " 45  SCHL_12  2 non-null      category\n",
      " 46  SCHL_13  1 non-null      category\n",
      " 47  SCHL_14  1 non-null      category\n",
      "dtypes: category(48)\n",
      "memory usage: 730.7 KB\n",
      "None\n"
     ]
    }
   ],
   "source": [
    "print(df_flattened.head())\n",
    "print(df_flattened.info())"
   ]
  },
  {
   "cell_type": "code",
   "execution_count": null,
   "metadata": {},
   "outputs": [
    {
     "name": "stdout",
     "output_type": "stream",
     "text": [
      "['SEX_1', 'SEX_2', 'SEX_3', 'SEX_4', 'SEX_5', 'SEX_6', 'SEX_7', 'SEX_8', 'SEX_9', 'SEX_10', 'SEX_11', 'SEX_12', 'SEX_13', 'SEX_14', 'AGEP_1', 'AGEP_2', 'AGEP_3', 'AGEP_4', 'AGEP_5', 'AGEP_6', 'AGEP_7', 'AGEP_8', 'AGEP_9', 'AGEP_10', 'AGEP_11', 'AGEP_12', 'AGEP_13', 'AGEP_14', 'SCHL_1', 'SCHL_2', 'SCHL_3', 'SCHL_4', 'SCHL_5', 'SCHL_6', 'SCHL_7', 'SCHL_8', 'SCHL_9', 'SCHL_10', 'SCHL_11', 'SCHL_12', 'SCHL_13', 'SCHL_14']\n"
     ]
    }
   ],
   "source": [
    "# create one hot encoding for each category \n",
    "df_pivoted_cols = pivoted_df.columns.tolist()\n",
    "df_pivoted_cols.remove('SERIALNO')\n",
    "print(df_pivoted_cols)\n",
    "df_non_pivot = df_flattened.drop(columns=df_pivoted_cols)\n",
    "\n",
    "df_non_pivot = pd.get_dummies(df_non_pivot, columns=df_non_pivot.columns, prefix_sep=':', dtype=int, dummy_na=False)\n",
    "\n",
    "df_pivoted = df_flattened[df_pivoted_cols]\n",
    "\n",
    "df_pivoted = pd.get_dummies(df_pivoted, columns=df_pivoted.columns, prefix_sep=':', dtype=int, dummy_na=True)\n",
    "\n",
    "df_onehot = pd.concat([df_non_pivot, df_pivoted], axis=1) \n",
    "\n",
    "# use this command to get the non nan one hot encoding \n",
    "#df_onehot = pd.get_dummies(df_flattened, columns=df_flattened.columns, prefix_sep=':', dtype=int)\n",
    "\n"
   ]
  },
  {
   "cell_type": "code",
   "execution_count": 38,
   "metadata": {},
   "outputs": [
    {
     "name": "stdout",
     "output_type": "stream",
     "text": [
      "   TEN:owned or mortgaged  TEN:rented  HHL:english  HHL:spanish  \\\n",
      "0                       1           0            1            0   \n",
      "1                       1           0            0            0   \n",
      "2                       1           0            0            1   \n",
      "3                       1           0            1            0   \n",
      "4                       0           1            0            0   \n",
      "\n",
      "   HHL:other indo-european  HHL:asian and pacific island languages  HHL:other  \\\n",
      "0                        0                                       0          0   \n",
      "1                        0                                       0          1   \n",
      "2                        0                                       0          0   \n",
      "3                        0                                       0          0   \n",
      "4                        0                                       1          0   \n",
      "\n",
      "   VEH:no vehicles  VEH:1 vehicle  VEH:2 vehicles  ...  SCHL_13:bachelor  \\\n",
      "0                1              0               0  ...                 0   \n",
      "1                0              1               0  ...                 0   \n",
      "2                0              0               1  ...                 0   \n",
      "3                0              1               0  ...                 0   \n",
      "4                0              1               0  ...                 0   \n",
      "\n",
      "   SCHL_13:graduate  SCHL_13:nan  SCHL_14:other  \\\n",
      "0                 0            1              0   \n",
      "1                 0            1              0   \n",
      "2                 0            1              0   \n",
      "3                 0            1              0   \n",
      "4                 0            1              0   \n",
      "\n",
      "   SCHL_14:less than high school  SCHL_14:high school  \\\n",
      "0                              0                    0   \n",
      "1                              0                    0   \n",
      "2                              0                    0   \n",
      "3                              0                    0   \n",
      "4                              0                    0   \n",
      "\n",
      "   SCHL_14:college or associate  SCHL_14:bachelor  SCHL_14:graduate  \\\n",
      "0                             0                 0                 0   \n",
      "1                             0                 0                 0   \n",
      "2                             0                 0                 0   \n",
      "3                             0                 0                 0   \n",
      "4                             0                 0                 0   \n",
      "\n",
      "   SCHL_14:nan  \n",
      "0            1  \n",
      "1            1  \n",
      "2            1  \n",
      "3            1  \n",
      "4            1  \n",
      "\n",
      "[5 rows x 433 columns]\n",
      "<class 'pandas.core.frame.DataFrame'>\n",
      "RangeIndex: 15256 entries, 0 to 15255\n",
      "Columns: 433 entries, TEN:owned or mortgaged to SCHL_14:nan\n",
      "dtypes: int64(433)\n",
      "memory usage: 50.4 MB\n",
      "None\n"
     ]
    }
   ],
   "source": [
    "print(df_onehot.head())\n",
    "print(df_onehot.info())"
   ]
  },
  {
   "cell_type": "code",
   "execution_count": 39,
   "metadata": {},
   "outputs": [],
   "source": [
    "# drop zero columns \n",
    "#df_onehot = df_onehot.loc[:, (df_onehot.sum() != 0)]\n",
    "df_onehot.to_csv('/mnt/a/csv_hde/one_hot_data.csv', index=False)"
   ]
  },
  {
   "cell_type": "code",
   "execution_count": 40,
   "metadata": {},
   "outputs": [
    {
     "name": "stdout",
     "output_type": "stream",
     "text": [
      "(array([0, 1]), array([5873560,  732288]))\n",
      "0.125\n"
     ]
    }
   ],
   "source": [
    "# compute ration of 0s to 1s \n",
    "\n",
    "unique_values = np.unique(df_onehot.values, return_counts=True)\n",
    "print(unique_values)\n",
    "\n",
    "# compute the ratio of 0s to 1s\n",
    "ratio = unique_values[1][1] / unique_values[1][0]\n",
    "print(f'{ratio:.3f}')"
   ]
  }
 ],
 "metadata": {
  "kernelspec": {
   "display_name": "Python 3",
   "language": "python",
   "name": "python3"
  },
  "language_info": {
   "codemirror_mode": {
    "name": "ipython",
    "version": 3
   },
   "file_extension": ".py",
   "mimetype": "text/x-python",
   "name": "python",
   "nbconvert_exporter": "python",
   "pygments_lexer": "ipython3",
   "version": "3.10.12"
  }
 },
 "nbformat": 4,
 "nbformat_minor": 2
}
