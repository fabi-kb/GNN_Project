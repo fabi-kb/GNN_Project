{
 "cells": [
  {
   "cell_type": "code",
   "execution_count": 19,
   "metadata": {},
   "outputs": [],
   "source": [
    "import pandas as pd\n",
    "import numpy as np"
   ]
  },
  {
   "cell_type": "code",
   "execution_count": 10,
   "metadata": {},
   "outputs": [],
   "source": [
    "df_h_a = pd.read_csv('A:/csv_hus/psam_husa.csv')\n",
    "df_h_b = pd.read_csv('A:/csv_hus/psam_husb.csv')\n",
    "df_h_c = pd.read_csv('A:/csv_hus/psam_husc.csv')\n",
    "df_h_d = pd.read_csv('A:/csv_hus/psam_husd.csv')\n"
   ]
  },
  {
   "cell_type": "code",
   "execution_count": 74,
   "metadata": {},
   "outputs": [],
   "source": [
    "h_colums_to_keep = ['SERIALNO', 'TEN', 'HHL', 'VEH', 'HINCP', 'R65', 'R18']\n",
    "\n",
    "df_h_a_filtered = df_h_a.filter(items=h_colums_to_keep).dropna()\n",
    "df_h_b_filtered = df_h_b.filter(items=h_colums_to_keep).dropna()\n",
    "df_h_c_filtered = df_h_c.filter(items=h_colums_to_keep).dropna()\n",
    "df_h_d_filtered = df_h_d.filter(items=h_colums_to_keep).dropna()"
   ]
  },
  {
   "cell_type": "code",
   "execution_count": 75,
   "metadata": {},
   "outputs": [
    {
     "name": "stdout",
     "output_type": "stream",
     "text": [
      "           SERIALNO  TEN  HHL  VEH    HINCP  R65  R18\n",
      "2292  2018HU0000071  2.0  1.0  2.0  96400.0  2.0  0.0\n",
      "2293  2018HU0000147  2.0  1.0  2.0  59100.0  0.0  1.0\n",
      "2294  2018HU0000274  1.0  1.0  2.0  65500.0  0.0  0.0\n",
      "2295  2018HU0000285  4.0  1.0  0.0  25100.0  1.0  0.0\n",
      "2296  2018HU0000302  3.0  1.0  2.0  92000.0  0.0  0.0\n",
      "<class 'pandas.core.frame.DataFrame'>\n",
      "Index: 6146602 entries, 2292 to 1912596\n",
      "Data columns (total 7 columns):\n",
      " #   Column    Dtype  \n",
      "---  ------    -----  \n",
      " 0   SERIALNO  object \n",
      " 1   TEN       float64\n",
      " 2   HHL       float64\n",
      " 3   VEH       float64\n",
      " 4   HINCP     float64\n",
      " 5   R65       float64\n",
      " 6   R18       float64\n",
      "dtypes: float64(6), object(1)\n",
      "memory usage: 375.2+ MB\n",
      "None\n"
     ]
    }
   ],
   "source": [
    "df_h_clean = pd.concat([df_h_a_filtered, df_h_b_filtered, df_h_c_filtered, df_h_d_filtered])\n",
    "\n",
    "print(df_h_clean.head())\n",
    "print(df_h_clean.info())\n",
    "\n"
   ]
  },
  {
   "cell_type": "code",
   "execution_count": 76,
   "metadata": {},
   "outputs": [],
   "source": [
    "hincp_bins = [0, 5000, 10000, 15000, 20000, 25000, 35000, 50000, 75000, 100000, 150000, np.inf]\n",
    "hincp_labels = ['under 5k', '5k-10k', '10k-15k', '15k-20k', 'excluded', '25k-35k', '35k-50k', '50k-75k', '75k-100k', '100k-150k', '150k+']\n",
    "\n",
    "# right = False: right open, left closed\n",
    "df_h_clean['HINCP'] = pd.cut(df_h_clean['HINCP'], bins=hincp_bins, labels=hincp_labels, right=False, include_lowest=True)\n",
    "df_h_clean = df_h_clean[df_h_clean['HINCP'] != 'excluded']"
   ]
  },
  {
   "cell_type": "code",
   "execution_count": 77,
   "metadata": {},
   "outputs": [],
   "source": [
    "TEN_bins = [0, 2, 3]\n",
    "TEN_labels = ['owned or mortgaged', 'rented']\n",
    "\n",
    "df_h_clean['TEN'] = pd.cut(df_h_clean['TEN'], bins=TEN_bins, labels=TEN_labels)"
   ]
  },
  {
   "cell_type": "code",
   "execution_count": 78,
   "metadata": {},
   "outputs": [],
   "source": [
    "R18_bins = [0, 1, 2]\n",
    "R18_labels = ['no', 'yes']\n",
    "\n",
    "# right = False: right open, left closed\n",
    "df_h_clean['R18'] = pd.cut(df_h_clean['R18'], bins=R18_bins, labels=R18_labels, right=False, include_lowest=True)\n",
    "\n",
    "R65_bins = [0, 1, 2]\n",
    "R65_labels = ['no', 'yes']\n",
    "\n",
    "df_h_clean['R65'] = pd.cut(df_h_clean['R65'], bins=R65_bins, labels=R65_labels, right=False, include_lowest=True)\n",
    "\n",
    "# test dataframe to see correct binning\n",
    "\n",
    "#test = pd.DataFrame()\n",
    "#test['R18'] = [0, 1, 2]\n",
    "#\n",
    "#test['R18'] = pd.cut(test['R18'], bins=R18_bins, labels=R18_labels, right=False, include_lowest=True)\n",
    "#\n",
    "#print(test)"
   ]
  },
  {
   "cell_type": "code",
   "execution_count": 79,
   "metadata": {},
   "outputs": [],
   "source": [
    "HHL_bins = [0, 1, 2, 3]\n",
    "HHL_labels = ['english', 'spanish', 'other indo-european']\n",
    "\n",
    "# test dataframe to see if bins are correct \n",
    "#test = pd.DataFrame()\n",
    "#test['HHL'] = [0, 1, 2, 3]\n",
    "#test['HHL'] = pd.cut(test['HHL'], bins=HHL_bins, labels=HHL_labels)\n",
    "\n",
    "#print(test)\n",
    "\n",
    "df_h_clean['HHL'] = pd.cut(df_h_clean['HHL'], bins=HHL_bins, labels=HHL_labels)"
   ]
  },
  {
   "cell_type": "code",
   "execution_count": 80,
   "metadata": {},
   "outputs": [],
   "source": [
    "VEH_bins = [0, 1, 2, 3, 4, np.inf]\n",
    "VEH_labels = ['no vehicles', '1 vehicle', '2 vehicles', '3 vehicles', '4 or more vehicles'] \n",
    "\n",
    "df_h_clean['VEH'] = pd.cut(df_h_clean['VEH'], bins=VEH_bins, labels=VEH_labels, include_lowest=True, right=False)\n",
    "\n",
    "\n",
    "#test = pd.DataFrame()\n",
    "#test['VEH'] = [0, 1, 2, 3, 4, 5]\n",
    "#test['VEH'] = pd.cut(test['VEH'], bins=VEH_bins, labels=VEH_labels, include_lowest=True, right=False)\n",
    "#\n",
    "#print(test)"
   ]
  },
  {
   "cell_type": "code",
   "execution_count": 81,
   "metadata": {},
   "outputs": [],
   "source": [
    "df_h_clean = df_h_clean.dropna()"
   ]
  },
  {
   "cell_type": "code",
   "execution_count": 82,
   "metadata": {},
   "outputs": [
    {
     "name": "stdout",
     "output_type": "stream",
     "text": [
      "           SERIALNO                 TEN      HHL                 VEH  \\\n",
      "2293  2018HU0000147  owned or mortgaged  english          2 vehicles   \n",
      "2294  2018HU0000274  owned or mortgaged  english          2 vehicles   \n",
      "2296  2018HU0000302              rented  english          2 vehicles   \n",
      "2297  2018HU0000379  owned or mortgaged  spanish  4 or more vehicles   \n",
      "2298  2018HU0000472  owned or mortgaged  english           1 vehicle   \n",
      "\n",
      "         HINCP R65  R18  \n",
      "2293   50k-75k  no  yes  \n",
      "2294   50k-75k  no   no  \n",
      "2296  75k-100k  no   no  \n",
      "2297   50k-75k  no  yes  \n",
      "2298   50k-75k  no   no  \n",
      "<class 'pandas.core.frame.DataFrame'>\n",
      "Index: 4706456 entries, 2293 to 1912596\n",
      "Data columns (total 7 columns):\n",
      " #   Column    Dtype   \n",
      "---  ------    -----   \n",
      " 0   SERIALNO  object  \n",
      " 1   TEN       category\n",
      " 2   HHL       category\n",
      " 3   VEH       category\n",
      " 4   HINCP     category\n",
      " 5   R65       category\n",
      " 6   R18       category\n",
      "dtypes: category(6), object(1)\n",
      "memory usage: 98.7+ MB\n",
      "None\n"
     ]
    }
   ],
   "source": [
    "print(df_h_clean.head())\n",
    "print(df_h_clean.info())"
   ]
  },
  {
   "cell_type": "code",
   "execution_count": 83,
   "metadata": {},
   "outputs": [],
   "source": [
    "df_h_clean.to_csv('A:/csv_hus/psam_hus_filtered.csv', index=False)"
   ]
  },
  {
   "cell_type": "code",
   "execution_count": 33,
   "metadata": {},
   "outputs": [],
   "source": [
    "df_p_a = pd.read_csv('A:/csv_pus/psam_pusa.csv')\n",
    "df_p_b = pd.read_csv('A:/csv_pus/psam_pusb.csv')\n",
    "df_p_c = pd.read_csv('A:/csv_pus/psam_pusc.csv')\n",
    "df_p_d = pd.read_csv('A:/csv_pus/psam_pusd.csv')"
   ]
  },
  {
   "cell_type": "code",
   "execution_count": 84,
   "metadata": {},
   "outputs": [],
   "source": [
    "p_colums_to_keep = ['SERIALNO', 'SEX', 'AGEP', 'SCHL']\n",
    "\n",
    "df_p_a_filtered = df_p_a.filter(items=p_colums_to_keep).dropna()\n",
    "df_p_b_filtered = df_p_b.filter(items=p_colums_to_keep).dropna()\n",
    "df_p_c_filtered = df_p_c.filter(items=p_colums_to_keep).dropna()\n",
    "df_p_d_filtered = df_p_d.filter(items=p_colums_to_keep).dropna()\n",
    "\n",
    "df_p_clean = pd.concat([df_p_a_filtered, df_p_b_filtered, df_p_c_filtered, df_p_d_filtered])"
   ]
  },
  {
   "cell_type": "code",
   "execution_count": 85,
   "metadata": {},
   "outputs": [],
   "source": [
    "SEX_bins = [0, 1, 2]\n",
    "SEX_labels = ['male', 'female']\n",
    "\n",
    "df_p_clean['SEX'] = pd.cut(df_p_clean['SEX'], bins=SEX_bins, labels=SEX_labels)\n"
   ]
  },
  {
   "cell_type": "code",
   "execution_count": 86,
   "metadata": {},
   "outputs": [],
   "source": [
    "AGEP_bins = [0, 5, 10, 15, 20, 25, 30, 35, 40, 45, 50, 55, 60, 65, 70, 75, 80, 85, np.inf]\n",
    "AGEP_labels = ['under 5', '5-9', '10-14', '15-19', '20-24', '25-29', '30-34', '35-39', '40-44', '45-49', '50-54', '55-59', '60-64', '65-69', '70-74', '75-79', '80-84', '85+']\n",
    "\n",
    "df_p_clean['AGEP'] = pd.cut(df_p_clean['AGEP'], bins=AGEP_bins, labels=AGEP_labels, right=False, include_lowest=True)"
   ]
  },
  {
   "cell_type": "code",
   "execution_count": 87,
   "metadata": {},
   "outputs": [],
   "source": [
    "SCHL_bins = [0, 12, 18, 21, 22, np.inf]\n",
    "\n",
    "SCHL_labels = ['NA', 'high school', 'college or associate', 'bachelor', 'graduate']\n",
    "\n",
    "df_p_clean['SCHL'] = pd.cut(df_p_clean['SCHL'], bins=SCHL_bins, labels=SCHL_labels, right=False, include_lowest=True)\n",
    "\n",
    "\n",
    "#test = pd.DataFrame()\n",
    "#test['SCHL'] = [0, 1, 2, 3, 4, 5, 6, 7, 8, 9, 10, 11, 12, 13, 14, 15, 16, 17, 18, 19, 20, 21, 22, 23, 24, 25]\n",
    "#test['SCHL'] = pd.cut(test['SCHL'], bins=SCHL_bins, labels=SCHL_labels, right=False, include_lowest=True)\n",
    "#\n",
    "#print(test)"
   ]
  },
  {
   "cell_type": "code",
   "execution_count": 88,
   "metadata": {},
   "outputs": [
    {
     "name": "stdout",
     "output_type": "stream",
     "text": [
      "        SERIALNO     SEX   AGEP                  SCHL\n",
      "0  2018GQ0000049  female  15-19  college or associate\n",
      "1  2018GQ0000058  female  15-19  college or associate\n",
      "2  2018GQ0000219    male  50-54           high school\n",
      "3  2018GQ0000246    male  25-29  college or associate\n",
      "4  2018GQ0000251  female  25-29           high school\n",
      "<class 'pandas.core.frame.DataFrame'>\n",
      "Index: 15283774 entries, 0 to 3997950\n",
      "Data columns (total 4 columns):\n",
      " #   Column    Dtype   \n",
      "---  ------    -----   \n",
      " 0   SERIALNO  object  \n",
      " 1   SEX       category\n",
      " 2   AGEP      category\n",
      " 3   SCHL      category\n",
      "dtypes: category(3), object(1)\n",
      "memory usage: 276.9+ MB\n",
      "None\n"
     ]
    }
   ],
   "source": [
    "\n",
    "print(df_p_clean.head())\n",
    "print(df_p_clean.info())"
   ]
  },
  {
   "cell_type": "code",
   "execution_count": 89,
   "metadata": {},
   "outputs": [
    {
     "name": "stdout",
     "output_type": "stream",
     "text": [
      "        SERIALNO                 TEN      HHL         VEH    HINCP R65  R18  \\\n",
      "0  2018HU0000147  owned or mortgaged  english  2 vehicles  50k-75k  no  yes   \n",
      "1  2018HU0000147  owned or mortgaged  english  2 vehicles  50k-75k  no  yes   \n",
      "2  2018HU0000147  owned or mortgaged  english  2 vehicles  50k-75k  no  yes   \n",
      "3  2018HU0000147  owned or mortgaged  english  2 vehicles  50k-75k  no  yes   \n",
      "4  2018HU0000274  owned or mortgaged  english  2 vehicles  50k-75k  no   no   \n",
      "\n",
      "      SEX   AGEP                  SCHL  \n",
      "0    male  60-64           high school  \n",
      "1  female  50-54  college or associate  \n",
      "2  female  10-14                    NA  \n",
      "3  female  60-64           high school  \n",
      "4    male  30-34              bachelor  \n",
      "<class 'pandas.core.frame.DataFrame'>\n",
      "RangeIndex: 11106182 entries, 0 to 11106181\n",
      "Data columns (total 10 columns):\n",
      " #   Column    Dtype   \n",
      "---  ------    -----   \n",
      " 0   SERIALNO  object  \n",
      " 1   TEN       category\n",
      " 2   HHL       category\n",
      " 3   VEH       category\n",
      " 4   HINCP     category\n",
      " 5   R65       category\n",
      " 6   R18       category\n",
      " 7   SEX       category\n",
      " 8   AGEP      category\n",
      " 9   SCHL      category\n",
      "dtypes: category(9), object(1)\n",
      "memory usage: 180.1+ MB\n",
      "None\n"
     ]
    }
   ],
   "source": [
    "# match the two dataframes on SERIALNO\n",
    "\n",
    "df_clean = pd.merge(df_h_clean, df_p_clean, on='SERIALNO')\n",
    "\n",
    "\n",
    "print(df_clean.head())\n",
    "print(df_clean.info())"
   ]
  },
  {
   "cell_type": "code",
   "execution_count": 90,
   "metadata": {},
   "outputs": [],
   "source": [
    "# create one hot encoding for each category \n",
    "\n",
    "df_onehot = pd.get_dummies(df_clean, columns=['TEN', 'HHL', 'VEH', 'R18', 'R65', 'HINCP', 'SEX', 'AGEP', 'SCHL'], prefix_sep=':', dtype=int)\n",
    "\n"
   ]
  },
  {
   "cell_type": "code",
   "execution_count": 91,
   "metadata": {},
   "outputs": [
    {
     "name": "stdout",
     "output_type": "stream",
     "text": [
      "        SERIALNO  TEN:owned or mortgaged  TEN:rented  HHL:english  \\\n",
      "0  2018HU0000147                       1           0            1   \n",
      "1  2018HU0000147                       1           0            1   \n",
      "2  2018HU0000147                       1           0            1   \n",
      "3  2018HU0000147                       1           0            1   \n",
      "4  2018HU0000274                       1           0            1   \n",
      "\n",
      "   HHL:spanish  HHL:other indo-european  VEH:no vehicles  VEH:1 vehicle  \\\n",
      "0            0                        0                0              0   \n",
      "1            0                        0                0              0   \n",
      "2            0                        0                0              0   \n",
      "3            0                        0                0              0   \n",
      "4            0                        0                0              0   \n",
      "\n",
      "   VEH:2 vehicles  VEH:3 vehicles  ...  AGEP:65-69  AGEP:70-74  AGEP:75-79  \\\n",
      "0               1               0  ...           0           0           0   \n",
      "1               1               0  ...           0           0           0   \n",
      "2               1               0  ...           0           0           0   \n",
      "3               1               0  ...           0           0           0   \n",
      "4               1               0  ...           0           0           0   \n",
      "\n",
      "   AGEP:80-84  AGEP:85+  SCHL:NA  SCHL:high school  SCHL:college or associate  \\\n",
      "0           0         0        0                 1                          0   \n",
      "1           0         0        0                 0                          1   \n",
      "2           0         0        1                 0                          0   \n",
      "3           0         0        0                 1                          0   \n",
      "4           0         0        0                 0                          0   \n",
      "\n",
      "   SCHL:bachelor  SCHL:graduate  \n",
      "0              0              0  \n",
      "1              0              0  \n",
      "2              0              0  \n",
      "3              0              0  \n",
      "4              1              0  \n",
      "\n",
      "[5 rows x 51 columns]\n",
      "<class 'pandas.core.frame.DataFrame'>\n",
      "RangeIndex: 11106182 entries, 0 to 11106181\n",
      "Data columns (total 51 columns):\n",
      " #   Column                     Dtype \n",
      "---  ------                     ----- \n",
      " 0   SERIALNO                   object\n",
      " 1   TEN:owned or mortgaged     int32 \n",
      " 2   TEN:rented                 int32 \n",
      " 3   HHL:english                int32 \n",
      " 4   HHL:spanish                int32 \n",
      " 5   HHL:other indo-european    int32 \n",
      " 6   VEH:no vehicles            int32 \n",
      " 7   VEH:1 vehicle              int32 \n",
      " 8   VEH:2 vehicles             int32 \n",
      " 9   VEH:3 vehicles             int32 \n",
      " 10  VEH:4 or more vehicles     int32 \n",
      " 11  R18:no                     int32 \n",
      " 12  R18:yes                    int32 \n",
      " 13  R65:no                     int32 \n",
      " 14  R65:yes                    int32 \n",
      " 15  HINCP:under 5k             int32 \n",
      " 16  HINCP:5k-10k               int32 \n",
      " 17  HINCP:10k-15k              int32 \n",
      " 18  HINCP:15k-20k              int32 \n",
      " 19  HINCP:excluded             int32 \n",
      " 20  HINCP:25k-35k              int32 \n",
      " 21  HINCP:35k-50k              int32 \n",
      " 22  HINCP:50k-75k              int32 \n",
      " 23  HINCP:75k-100k             int32 \n",
      " 24  HINCP:100k-150k            int32 \n",
      " 25  HINCP:150k+                int32 \n",
      " 26  SEX:male                   int32 \n",
      " 27  SEX:female                 int32 \n",
      " 28  AGEP:under 5               int32 \n",
      " 29  AGEP:5-9                   int32 \n",
      " 30  AGEP:10-14                 int32 \n",
      " 31  AGEP:15-19                 int32 \n",
      " 32  AGEP:20-24                 int32 \n",
      " 33  AGEP:25-29                 int32 \n",
      " 34  AGEP:30-34                 int32 \n",
      " 35  AGEP:35-39                 int32 \n",
      " 36  AGEP:40-44                 int32 \n",
      " 37  AGEP:45-49                 int32 \n",
      " 38  AGEP:50-54                 int32 \n",
      " 39  AGEP:55-59                 int32 \n",
      " 40  AGEP:60-64                 int32 \n",
      " 41  AGEP:65-69                 int32 \n",
      " 42  AGEP:70-74                 int32 \n",
      " 43  AGEP:75-79                 int32 \n",
      " 44  AGEP:80-84                 int32 \n",
      " 45  AGEP:85+                   int32 \n",
      " 46  SCHL:NA                    int32 \n",
      " 47  SCHL:high school           int32 \n",
      " 48  SCHL:college or associate  int32 \n",
      " 49  SCHL:bachelor              int32 \n",
      " 50  SCHL:graduate              int32 \n",
      "dtypes: int32(50), object(1)\n",
      "memory usage: 2.2+ GB\n",
      "None\n"
     ]
    }
   ],
   "source": [
    "print(df_onehot.head())\n",
    "print(df_onehot.info())"
   ]
  },
  {
   "cell_type": "code",
   "execution_count": 92,
   "metadata": {},
   "outputs": [],
   "source": [
    "# save to csv\n",
    "df_onehot.to_csv('A:/csv_hus/psam_hus_pus_filtered.csv', index=False)"
   ]
  }
 ],
 "metadata": {
  "kernelspec": {
   "display_name": "Python 3",
   "language": "python",
   "name": "python3"
  },
  "language_info": {
   "codemirror_mode": {
    "name": "ipython",
    "version": 3
   },
   "file_extension": ".py",
   "mimetype": "text/x-python",
   "name": "python",
   "nbconvert_exporter": "python",
   "pygments_lexer": "ipython3",
   "version": "3.11.5"
  }
 },
 "nbformat": 4,
 "nbformat_minor": 2
}
