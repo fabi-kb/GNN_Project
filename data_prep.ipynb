{
 "cells": [
  {
   "cell_type": "code",
   "execution_count": 1,
   "metadata": {},
   "outputs": [],
   "source": [
    "import pandas as pd\n",
    "import numpy as np"
   ]
  },
  {
   "cell_type": "code",
   "execution_count": 2,
   "metadata": {},
   "outputs": [],
   "source": [
    "file_name = 'one_hot_pNaNs_agep_small.csv'\n",
    "sort_by = 'AGEP'\n",
    "ascending = False"
   ]
  },
  {
   "cell_type": "code",
   "execution_count": 3,
   "metadata": {},
   "outputs": [],
   "source": [
    "# loading the delaware data \n",
    "df_h = pd.read_csv('/workspace/data/psam_h10_small.csv')\n",
    "df_p = pd.read_csv('/workspace/data/psam_p10_small.csv')"
   ]
  },
  {
   "cell_type": "code",
   "execution_count": 4,
   "metadata": {},
   "outputs": [],
   "source": [
    "h_colums_to_keep = ['SERIALNO', 'TEN', 'HHL', 'VEH', 'HINCP', 'R65', 'R18']\n",
    "p_colums_to_keep = ['SERIALNO', 'SEX', 'AGEP', 'SCHL'] \n",
    "\n",
    "\n",
    "df_h_filtered = df_h.filter(items=h_colums_to_keep)\n",
    "df_p_filtered = df_p.filter(items=p_colums_to_keep)\n"
   ]
  },
  {
   "cell_type": "code",
   "execution_count": 5,
   "metadata": {},
   "outputs": [
    {
     "name": "stdout",
     "output_type": "stream",
     "text": [
      "        SERIALNO  TEN  HHL  VEH  HINCP  R65  R18\n",
      "0  2022GQ0000148  NaN  NaN  NaN    NaN  NaN  NaN\n",
      "1  2022GQ0000610  NaN  NaN  NaN    NaN  NaN  NaN\n",
      "2  2022GQ0001044  NaN  NaN  NaN    NaN  NaN  NaN\n",
      "3  2022GQ0001089  NaN  NaN  NaN    NaN  NaN  NaN\n",
      "4  2022GQ0001666  NaN  NaN  NaN    NaN  NaN  NaN\n",
      "<class 'pandas.core.frame.DataFrame'>\n",
      "RangeIndex: 4963 entries, 0 to 4962\n",
      "Data columns (total 7 columns):\n",
      " #   Column    Non-Null Count  Dtype  \n",
      "---  ------    --------------  -----  \n",
      " 0   SERIALNO  4963 non-null   object \n",
      " 1   TEN       4094 non-null   float64\n",
      " 2   HHL       4094 non-null   float64\n",
      " 3   VEH       4094 non-null   float64\n",
      " 4   HINCP     4094 non-null   float64\n",
      " 5   R65       4094 non-null   float64\n",
      " 6   R18       4094 non-null   float64\n",
      "dtypes: float64(6), object(1)\n",
      "memory usage: 271.5+ KB\n",
      "None\n"
     ]
    }
   ],
   "source": [
    "#df_h_clean = pd.concat([df_h_a_filtered, df_h_b_filtered, df_h_c_filtered, df_h_d_filtered])\n",
    "print(df_h_filtered.head())\n",
    "print(df_h_filtered.info())\n"
   ]
  },
  {
   "cell_type": "code",
   "execution_count": 6,
   "metadata": {},
   "outputs": [
    {
     "name": "stdout",
     "output_type": "stream",
     "text": [
      "        SERIALNO  TEN  HHL  VEH  HINCP  R65  R18  SEX  AGEP  SCHL\n",
      "0  2022GQ0000148  NaN  NaN  NaN    NaN  NaN  NaN    2    84  21.0\n",
      "1  2022GQ0000610  NaN  NaN  NaN    NaN  NaN  NaN    2    39  16.0\n",
      "2  2022GQ0001044  NaN  NaN  NaN    NaN  NaN  NaN    2    19  19.0\n",
      "3  2022GQ0001089  NaN  NaN  NaN    NaN  NaN  NaN    2    77  21.0\n",
      "4  2022GQ0001666  NaN  NaN  NaN    NaN  NaN  NaN    2    18  16.0\n",
      "<class 'pandas.core.frame.DataFrame'>\n",
      "RangeIndex: 9641 entries, 0 to 9640\n",
      "Data columns (total 10 columns):\n",
      " #   Column    Non-Null Count  Dtype  \n",
      "---  ------    --------------  -----  \n",
      " 0   SERIALNO  9641 non-null   object \n",
      " 1   TEN       9336 non-null   float64\n",
      " 2   HHL       9336 non-null   float64\n",
      " 3   VEH       9336 non-null   float64\n",
      " 4   HINCP     9336 non-null   float64\n",
      " 5   R65       9336 non-null   float64\n",
      " 6   R18       9336 non-null   float64\n",
      " 7   SEX       9641 non-null   int64  \n",
      " 8   AGEP      9641 non-null   int64  \n",
      " 9   SCHL      9417 non-null   float64\n",
      "dtypes: float64(7), int64(2), object(1)\n",
      "memory usage: 753.3+ KB\n",
      "None\n"
     ]
    }
   ],
   "source": [
    "# merge the two dataframes on the SERIALNO column\n",
    "df = pd.merge(df_h_filtered, df_p_filtered, on='SERIALNO', how='inner')\n",
    "print(df.head())\n",
    "print(df.info())\n"
   ]
  },
  {
   "cell_type": "code",
   "execution_count": 7,
   "metadata": {},
   "outputs": [
    {
     "name": "stdout",
     "output_type": "stream",
     "text": [
      "        SERIALNO  TEN  HHL  VEH  HINCP  R65  R18  SEX  AGEP  SCHL  ORDER\n",
      "0  2022GQ0000148  NaN  NaN  NaN    NaN  NaN  NaN    2    84  21.0      1\n",
      "1  2022GQ0000610  NaN  NaN  NaN    NaN  NaN  NaN    2    39  16.0      1\n",
      "2  2022GQ0001044  NaN  NaN  NaN    NaN  NaN  NaN    2    19  19.0      1\n",
      "3  2022GQ0001089  NaN  NaN  NaN    NaN  NaN  NaN    2    77  21.0      1\n",
      "4  2022GQ0001666  NaN  NaN  NaN    NaN  NaN  NaN    2    18  16.0      1\n",
      "<class 'pandas.core.frame.DataFrame'>\n",
      "RangeIndex: 9641 entries, 0 to 9640\n",
      "Data columns (total 11 columns):\n",
      " #   Column    Non-Null Count  Dtype  \n",
      "---  ------    --------------  -----  \n",
      " 0   SERIALNO  9641 non-null   object \n",
      " 1   TEN       9336 non-null   float64\n",
      " 2   HHL       9336 non-null   float64\n",
      " 3   VEH       9336 non-null   float64\n",
      " 4   HINCP     9336 non-null   float64\n",
      " 5   R65       9336 non-null   float64\n",
      " 6   R18       9336 non-null   float64\n",
      " 7   SEX       9641 non-null   int64  \n",
      " 8   AGEP      9641 non-null   int64  \n",
      " 9   SCHL      9417 non-null   float64\n",
      " 10  ORDER     9641 non-null   int64  \n",
      "dtypes: float64(7), int64(3), object(1)\n",
      "memory usage: 828.6+ KB\n",
      "None\n"
     ]
    }
   ],
   "source": [
    "# create a ordering for the later appending of the households \n",
    "df_sorted = df.sort_values(by=['SERIALNO', sort_by], ascending=[True, ascending])\n",
    "df['ORDER'] = df_sorted.groupby('SERIALNO').cumcount()+1\n",
    "print(df.head())\n",
    "print(df.info())\n"
   ]
  },
  {
   "cell_type": "code",
   "execution_count": 8,
   "metadata": {},
   "outputs": [],
   "source": [
    "# Apply the grouping to each continuous variable\n",
    "\n",
    "hincp_bins = [0, 5000, 10000, 15000, 20000, 25000, 35000, 50000, 75000, 100000, 150000, np.inf]\n",
    "hincp_labels = ['under 5k', '5k-10k', '10k-15k', '15k-20k', '20k-25k', '25k-35k', '35k-50k', '50k-75k', '75k-100k', '100k-150k', '150k+']\n",
    "\n",
    "# right = False: right open, left closed\n",
    "df['HINCP'] = pd.cut(df['HINCP'], bins=hincp_bins, labels=hincp_labels, right=False, include_lowest=True)\n",
    "#df = df[df['HINCP'] != 'excluded']"
   ]
  },
  {
   "cell_type": "code",
   "execution_count": 9,
   "metadata": {},
   "outputs": [],
   "source": [
    "TEN_bins = [0, 2, 3]\n",
    "TEN_labels = ['owned or mortgaged', 'rented']\n",
    "\n",
    "df['TEN'] = pd.cut(df['TEN'], bins=TEN_bins, labels=TEN_labels)"
   ]
  },
  {
   "cell_type": "code",
   "execution_count": 10,
   "metadata": {},
   "outputs": [],
   "source": [
    "R18_bins = [0, 1, 2]\n",
    "R18_labels = ['no', 'yes']\n",
    "\n",
    "# right = False: right open, left closed\n",
    "df['R18'] = pd.cut(df['R18'], bins=R18_bins, labels=R18_labels, right=False, include_lowest=True)\n",
    "\n",
    "R65_bins = [0, 1, 2]\n",
    "R65_labels = ['no', 'yes']\n",
    "\n",
    "df['R65'] = pd.cut(df['R65'], bins=R65_bins, labels=R65_labels, right=False, include_lowest=True)\n",
    "\n",
    "# test dataframe to see correct binning\n",
    "\n",
    "#test = pd.DataFrame()\n",
    "#test['R18'] = [0, 1, 2]\n",
    "#\n",
    "#test['R18'] = pd.cut(test['R18'], bins=R18_bins, labels=R18_labels, right=False, include_lowest=True)\n",
    "#\n",
    "#print(test)"
   ]
  },
  {
   "cell_type": "code",
   "execution_count": 11,
   "metadata": {},
   "outputs": [],
   "source": [
    "HHL_bins = [0, 1, 2, 3, 4, np.inf]\n",
    "HHL_labels = ['english', 'spanish', 'other indo-european', 'asian and pacific island languages', 'other']\n",
    "\n",
    "# test dataframe to see if bins are correct \n",
    "#test = pd.DataFrame()\n",
    "#test['HHL'] = [0, 1, 2, 3]\n",
    "#test['HHL'] = pd.cut(test['HHL'], bins=HHL_bins, labels=HHL_labels)\n",
    "\n",
    "#print(test)\n",
    "\n",
    "df['HHL'] = pd.cut(df['HHL'], bins=HHL_bins, labels=HHL_labels)"
   ]
  },
  {
   "cell_type": "code",
   "execution_count": 12,
   "metadata": {},
   "outputs": [],
   "source": [
    "VEH_bins = [0, 1, 2, 3, 4, np.inf]\n",
    "VEH_labels = ['no vehicles', '1 vehicle', '2 vehicles', '3 vehicles', '4 or more vehicles'] \n",
    "\n",
    "df['VEH'] = pd.cut(df['VEH'], bins=VEH_bins, labels=VEH_labels, include_lowest=True, right=False)\n",
    "\n",
    "\n",
    "#test = pd.DataFrame()\n",
    "#test['VEH'] = [0, 1, 2, 3, 4, 5]\n",
    "#test['VEH'] = pd.cut(test['VEH'], bins=VEH_bins, labels=VEH_labels, include_lowest=True, right=False)\n",
    "#\n",
    "#print(test)"
   ]
  },
  {
   "cell_type": "code",
   "execution_count": 13,
   "metadata": {},
   "outputs": [],
   "source": [
    "SEX_bins = [0, 1, 2]\n",
    "SEX_labels = ['male', 'female']\n",
    "\n",
    "df['SEX'] = pd.cut(df['SEX'], bins=SEX_bins, labels=SEX_labels)"
   ]
  },
  {
   "cell_type": "code",
   "execution_count": 14,
   "metadata": {},
   "outputs": [],
   "source": [
    "AGEP_bins = [0, 5, 10, 15, 20, 25, 30, 35, 40, 45, 50, 55, 60, 65, 70, 75, 80, 85, np.inf]\n",
    "AGEP_labels = ['under 5', '5-9', '10-14', '15-19', '20-24', '25-29', '30-34', '35-39', '40-44', '45-49', '50-54', '55-59', '60-64', '65-69', '70-74', '75-79', '80-84', '85+']\n",
    "\n",
    "df['AGEP'] = pd.cut(df['AGEP'], bins=AGEP_bins, labels=AGEP_labels, right=False, include_lowest=True)\n",
    "\n"
   ]
  },
  {
   "cell_type": "code",
   "execution_count": 15,
   "metadata": {},
   "outputs": [],
   "source": [
    "SCHL_bins = [0, 4, 12, 18, 21, 22, np.inf]\n",
    "\n",
    "SCHL_labels = ['other', 'less than high school', 'high school', 'college or associate', 'bachelor', 'graduate']\n",
    "#\n",
    "df['SCHL'] = pd.cut(df['SCHL'], bins=SCHL_bins, labels=SCHL_labels, right=False, include_lowest=True)\n",
    "\n",
    "\n",
    "#test = pd.DataFrame()\n",
    "#test['SCHL'] = [0, 1, 2, 3, 4, 5, 6, 7, 8, 9, 10, 11, 12, 13, 14, 15, 16, 17, 18, 19, 20, 21, 22, 23, 24, 25]\n",
    "#test['SCHL'] = pd.cut(test['SCHL'], bins=SCHL_bins, labels=SCHL_labels, right=False, include_lowest=True)\n",
    "##\n",
    "#print(test)"
   ]
  },
  {
   "cell_type": "code",
   "execution_count": 16,
   "metadata": {},
   "outputs": [],
   "source": [
    "# Not executed for the dataset\n",
    "df.dropna(inplace=True)"
   ]
  },
  {
   "cell_type": "code",
   "execution_count": 17,
   "metadata": {},
   "outputs": [
    {
     "name": "stdout",
     "output_type": "stream",
     "text": [
      "          SERIALNO                 TEN      HHL         VEH    HINCP  R65  \\\n",
      "305  2022HU0000526  owned or mortgaged  english   1 vehicle   5k-10k  yes   \n",
      "306  2022HU0001117  owned or mortgaged  english  2 vehicles  50k-75k   no   \n",
      "307  2022HU0001117  owned or mortgaged  english  2 vehicles  50k-75k   no   \n",
      "308  2022HU0001117  owned or mortgaged  english  2 vehicles  50k-75k   no   \n",
      "309  2022HU0001117  owned or mortgaged  english  2 vehicles  50k-75k   no   \n",
      "\n",
      "     R18     SEX   AGEP         SCHL  ORDER  \n",
      "305   no    male  70-74     bachelor      1  \n",
      "306  yes  female  40-44  high school      2  \n",
      "307  yes    male  45-49  high school      1  \n",
      "308  yes  female  20-24  high school      3  \n",
      "309  yes    male  15-19  high school      4  \n",
      "<class 'pandas.core.frame.DataFrame'>\n",
      "Index: 7033 entries, 305 to 9638\n",
      "Data columns (total 11 columns):\n",
      " #   Column    Non-Null Count  Dtype   \n",
      "---  ------    --------------  -----   \n",
      " 0   SERIALNO  7033 non-null   object  \n",
      " 1   TEN       7033 non-null   category\n",
      " 2   HHL       7033 non-null   category\n",
      " 3   VEH       7033 non-null   category\n",
      " 4   HINCP     7033 non-null   category\n",
      " 5   R65       7033 non-null   category\n",
      " 6   R18       7033 non-null   category\n",
      " 7   SEX       7033 non-null   category\n",
      " 8   AGEP      7033 non-null   category\n",
      " 9   SCHL      7033 non-null   category\n",
      " 10  ORDER     7033 non-null   int64   \n",
      "dtypes: category(9), int64(1), object(1)\n",
      "memory usage: 228.8+ KB\n",
      "None\n"
     ]
    }
   ],
   "source": [
    "print(df.head())\n",
    "print(df.info())"
   ]
  },
  {
   "cell_type": "code",
   "execution_count": 18,
   "metadata": {},
   "outputs": [
    {
     "name": "stdout",
     "output_type": "stream",
     "text": [
      "<class 'pandas.core.frame.DataFrame'>\n",
      "Index: 3156 entries, 305 to 9636\n",
      "Data columns (total 7 columns):\n",
      " #   Column    Non-Null Count  Dtype   \n",
      "---  ------    --------------  -----   \n",
      " 0   SERIALNO  3156 non-null   object  \n",
      " 1   TEN       3156 non-null   category\n",
      " 2   HHL       3156 non-null   category\n",
      " 3   VEH       3156 non-null   category\n",
      " 4   HINCP     3156 non-null   category\n",
      " 5   R65       3156 non-null   category\n",
      " 6   R18       3156 non-null   category\n",
      "dtypes: category(6), object(1)\n",
      "memory usage: 69.0+ KB\n",
      "None\n",
      "<class 'pandas.core.frame.DataFrame'>\n",
      "RangeIndex: 3156 entries, 0 to 3155\n",
      "Data columns (total 43 columns):\n",
      " #   Column    Non-Null Count  Dtype   \n",
      "---  ------    --------------  -----   \n",
      " 0   SERIALNO  3156 non-null   object  \n",
      " 1   SEX_1     3156 non-null   category\n",
      " 2   SEX_2     2037 non-null   category\n",
      " 3   SEX_3     1013 non-null   category\n",
      " 4   SEX_4     537 non-null    category\n",
      " 5   SEX_5     193 non-null    category\n",
      " 6   SEX_6     61 non-null     category\n",
      " 7   SEX_7     20 non-null     category\n",
      " 8   SEX_8     9 non-null      category\n",
      " 9   SEX_9     2 non-null      category\n",
      " 10  SEX_10    1 non-null      category\n",
      " 11  SEX_11    1 non-null      category\n",
      " 12  SEX_12    1 non-null      category\n",
      " 13  SEX_13    1 non-null      category\n",
      " 14  SEX_14    1 non-null      category\n",
      " 15  AGEP_1    3156 non-null   category\n",
      " 16  AGEP_2    2037 non-null   category\n",
      " 17  AGEP_3    1013 non-null   category\n",
      " 18  AGEP_4    537 non-null    category\n",
      " 19  AGEP_5    193 non-null    category\n",
      " 20  AGEP_6    61 non-null     category\n",
      " 21  AGEP_7    20 non-null     category\n",
      " 22  AGEP_8    9 non-null      category\n",
      " 23  AGEP_9    2 non-null      category\n",
      " 24  AGEP_10   1 non-null      category\n",
      " 25  AGEP_11   1 non-null      category\n",
      " 26  AGEP_12   1 non-null      category\n",
      " 27  AGEP_13   1 non-null      category\n",
      " 28  AGEP_14   1 non-null      category\n",
      " 29  SCHL_1    3156 non-null   category\n",
      " 30  SCHL_2    2037 non-null   category\n",
      " 31  SCHL_3    1013 non-null   category\n",
      " 32  SCHL_4    537 non-null    category\n",
      " 33  SCHL_5    193 non-null    category\n",
      " 34  SCHL_6    61 non-null     category\n",
      " 35  SCHL_7    20 non-null     category\n",
      " 36  SCHL_8    9 non-null      category\n",
      " 37  SCHL_9    2 non-null      category\n",
      " 38  SCHL_10   1 non-null      category\n",
      " 39  SCHL_11   1 non-null      category\n",
      " 40  SCHL_12   1 non-null      category\n",
      " 41  SCHL_13   1 non-null      category\n",
      " 42  SCHL_14   1 non-null      category\n",
      "dtypes: category(42), object(1)\n",
      "memory usage: 168.5+ KB\n",
      "None\n"
     ]
    }
   ],
   "source": [
    "# converting the df to having only one entry per serialno\n",
    "\n",
    "static_cols = h_colums_to_keep\n",
    "static_df = df[static_cols].drop_duplicates('SERIALNO')\n",
    "\n",
    "#print(static_df.head())\n",
    "print(static_df.info())\n",
    "\n",
    "attributes = ['SEX', 'AGEP', 'SCHL']\n",
    "\n",
    "pivoted_df = []\n",
    "\n",
    "for attribute in attributes:\n",
    "    tmp = df.pivot(index='SERIALNO', columns='ORDER', values=attribute)\n",
    "    tmp.columns = [f'{attribute}_{col}' for col in tmp.columns]\n",
    "    pivoted_df.append(tmp)\n",
    "\n",
    "pivoted_df = pd.concat(pivoted_df, axis=1)\n",
    "pivoted_df.reset_index(inplace=True)\n",
    "#print(pivoted_df.head())\n",
    "print(pivoted_df.info())\n",
    "\n",
    "#df_flattened = pd.concat([static_df, pivoted_df], axis=0)#.drop('SERIALNO', axis=1)\n",
    "df_flattened = pd.merge(static_df, pivoted_df, on='SERIALNO', how='inner').drop('SERIALNO', axis=1)\n",
    "#print(df_flattened.head())\n",
    "#print(df_flattened.info())\n",
    "\n",
    "\n"
   ]
  },
  {
   "cell_type": "code",
   "execution_count": 19,
   "metadata": {},
   "outputs": [
    {
     "name": "stdout",
     "output_type": "stream",
     "text": [
      "                  TEN      HHL                 VEH      HINCP  R65  R18  \\\n",
      "0  owned or mortgaged  english           1 vehicle     5k-10k  yes   no   \n",
      "1  owned or mortgaged  english          2 vehicles    50k-75k   no  yes   \n",
      "2  owned or mortgaged  english          2 vehicles  100k-150k   no  yes   \n",
      "3  owned or mortgaged  english  4 or more vehicles      150k+   no  yes   \n",
      "4  owned or mortgaged  english          2 vehicles    50k-75k   no  yes   \n",
      "\n",
      "    SEX_1   SEX_2   SEX_3   SEX_4  ...                 SCHL_5  \\\n",
      "0    male     NaN     NaN     NaN  ...                    NaN   \n",
      "1    male  female  female    male  ...  less than high school   \n",
      "2  female    male     NaN     NaN  ...                    NaN   \n",
      "3    male  female    male    male  ...  less than high school   \n",
      "4  female    male  female  female  ...                  other   \n",
      "\n",
      "                  SCHL_6 SCHL_7 SCHL_8 SCHL_9 SCHL_10 SCHL_11 SCHL_12 SCHL_13  \\\n",
      "0                    NaN    NaN    NaN    NaN     NaN     NaN     NaN     NaN   \n",
      "1  less than high school  other  other  other     NaN     NaN     NaN     NaN   \n",
      "2                    NaN    NaN    NaN    NaN     NaN     NaN     NaN     NaN   \n",
      "3                    NaN    NaN    NaN    NaN     NaN     NaN     NaN     NaN   \n",
      "4                    NaN    NaN    NaN    NaN     NaN     NaN     NaN     NaN   \n",
      "\n",
      "  SCHL_14  \n",
      "0     NaN  \n",
      "1     NaN  \n",
      "2     NaN  \n",
      "3     NaN  \n",
      "4     NaN  \n",
      "\n",
      "[5 rows x 48 columns]\n",
      "<class 'pandas.core.frame.DataFrame'>\n",
      "RangeIndex: 3156 entries, 0 to 3155\n",
      "Data columns (total 48 columns):\n",
      " #   Column   Non-Null Count  Dtype   \n",
      "---  ------   --------------  -----   \n",
      " 0   TEN      3156 non-null   category\n",
      " 1   HHL      3156 non-null   category\n",
      " 2   VEH      3156 non-null   category\n",
      " 3   HINCP    3156 non-null   category\n",
      " 4   R65      3156 non-null   category\n",
      " 5   R18      3156 non-null   category\n",
      " 6   SEX_1    3156 non-null   category\n",
      " 7   SEX_2    2037 non-null   category\n",
      " 8   SEX_3    1013 non-null   category\n",
      " 9   SEX_4    537 non-null    category\n",
      " 10  SEX_5    193 non-null    category\n",
      " 11  SEX_6    61 non-null     category\n",
      " 12  SEX_7    20 non-null     category\n",
      " 13  SEX_8    9 non-null      category\n",
      " 14  SEX_9    2 non-null      category\n",
      " 15  SEX_10   1 non-null      category\n",
      " 16  SEX_11   1 non-null      category\n",
      " 17  SEX_12   1 non-null      category\n",
      " 18  SEX_13   1 non-null      category\n",
      " 19  SEX_14   1 non-null      category\n",
      " 20  AGEP_1   3156 non-null   category\n",
      " 21  AGEP_2   2037 non-null   category\n",
      " 22  AGEP_3   1013 non-null   category\n",
      " 23  AGEP_4   537 non-null    category\n",
      " 24  AGEP_5   193 non-null    category\n",
      " 25  AGEP_6   61 non-null     category\n",
      " 26  AGEP_7   20 non-null     category\n",
      " 27  AGEP_8   9 non-null      category\n",
      " 28  AGEP_9   2 non-null      category\n",
      " 29  AGEP_10  1 non-null      category\n",
      " 30  AGEP_11  1 non-null      category\n",
      " 31  AGEP_12  1 non-null      category\n",
      " 32  AGEP_13  1 non-null      category\n",
      " 33  AGEP_14  1 non-null      category\n",
      " 34  SCHL_1   3156 non-null   category\n",
      " 35  SCHL_2   2037 non-null   category\n",
      " 36  SCHL_3   1013 non-null   category\n",
      " 37  SCHL_4   537 non-null    category\n",
      " 38  SCHL_5   193 non-null    category\n",
      " 39  SCHL_6   61 non-null     category\n",
      " 40  SCHL_7   20 non-null     category\n",
      " 41  SCHL_8   9 non-null      category\n",
      " 42  SCHL_9   2 non-null      category\n",
      " 43  SCHL_10  1 non-null      category\n",
      " 44  SCHL_11  1 non-null      category\n",
      " 45  SCHL_12  1 non-null      category\n",
      " 46  SCHL_13  1 non-null      category\n",
      " 47  SCHL_14  1 non-null      category\n",
      "dtypes: category(48)\n",
      "memory usage: 163.5 KB\n",
      "None\n"
     ]
    }
   ],
   "source": [
    "print(df_flattened.head())\n",
    "print(df_flattened.info())"
   ]
  },
  {
   "cell_type": "code",
   "execution_count": 20,
   "metadata": {},
   "outputs": [
    {
     "name": "stdout",
     "output_type": "stream",
     "text": [
      "['TEN:owned or mortgaged', 'TEN:rented', 'HHL:english', 'HHL:spanish', 'HHL:other indo-european', 'HHL:asian and pacific island languages', 'HHL:other', 'VEH:no vehicles', 'VEH:1 vehicle', 'VEH:2 vehicles', 'VEH:3 vehicles', 'VEH:4 or more vehicles', 'HINCP:under 5k', 'HINCP:5k-10k', 'HINCP:10k-15k', 'HINCP:15k-20k', 'HINCP:20k-25k', 'HINCP:25k-35k', 'HINCP:35k-50k', 'HINCP:50k-75k', 'HINCP:75k-100k', 'HINCP:100k-150k', 'HINCP:150k+', 'R65:no', 'R65:yes', 'R18:no', 'R18:yes', 'SEX_1:male', 'SEX_1:female', 'SEX_1:nan', 'SEX_2:male', 'SEX_2:female', 'SEX_2:nan', 'SEX_3:male', 'SEX_3:female', 'SEX_3:nan', 'SEX_4:male', 'SEX_4:female', 'SEX_4:nan', 'SEX_5:male', 'SEX_5:female', 'SEX_5:nan', 'SEX_6:male', 'SEX_6:female', 'SEX_6:nan', 'SEX_7:male', 'SEX_7:female', 'SEX_7:nan', 'SEX_8:male', 'SEX_8:female', 'SEX_8:nan', 'SEX_9:male', 'SEX_9:female', 'SEX_9:nan', 'SEX_10:male', 'SEX_10:female', 'SEX_10:nan', 'SEX_11:male', 'SEX_11:female', 'SEX_11:nan', 'SEX_12:male', 'SEX_12:female', 'SEX_12:nan', 'SEX_13:male', 'SEX_13:female', 'SEX_13:nan', 'SEX_14:male', 'SEX_14:female', 'SEX_14:nan', 'AGEP_1:under 5', 'AGEP_1:5-9', 'AGEP_1:10-14', 'AGEP_1:15-19', 'AGEP_1:20-24', 'AGEP_1:25-29', 'AGEP_1:30-34', 'AGEP_1:35-39', 'AGEP_1:40-44', 'AGEP_1:45-49', 'AGEP_1:50-54', 'AGEP_1:55-59', 'AGEP_1:60-64', 'AGEP_1:65-69', 'AGEP_1:70-74', 'AGEP_1:75-79', 'AGEP_1:80-84', 'AGEP_1:85+', 'AGEP_1:nan', 'AGEP_2:under 5', 'AGEP_2:5-9', 'AGEP_2:10-14', 'AGEP_2:15-19', 'AGEP_2:20-24', 'AGEP_2:25-29', 'AGEP_2:30-34', 'AGEP_2:35-39', 'AGEP_2:40-44', 'AGEP_2:45-49', 'AGEP_2:50-54', 'AGEP_2:55-59', 'AGEP_2:60-64', 'AGEP_2:65-69', 'AGEP_2:70-74', 'AGEP_2:75-79', 'AGEP_2:80-84', 'AGEP_2:85+', 'AGEP_2:nan', 'AGEP_3:under 5', 'AGEP_3:5-9', 'AGEP_3:10-14', 'AGEP_3:15-19', 'AGEP_3:20-24', 'AGEP_3:25-29', 'AGEP_3:30-34', 'AGEP_3:35-39', 'AGEP_3:40-44', 'AGEP_3:45-49', 'AGEP_3:50-54', 'AGEP_3:55-59', 'AGEP_3:60-64', 'AGEP_3:65-69', 'AGEP_3:70-74', 'AGEP_3:75-79', 'AGEP_3:80-84', 'AGEP_3:85+', 'AGEP_3:nan', 'AGEP_4:under 5', 'AGEP_4:5-9', 'AGEP_4:10-14', 'AGEP_4:15-19', 'AGEP_4:20-24', 'AGEP_4:25-29', 'AGEP_4:30-34', 'AGEP_4:35-39', 'AGEP_4:40-44', 'AGEP_4:45-49', 'AGEP_4:50-54', 'AGEP_4:55-59', 'AGEP_4:60-64', 'AGEP_4:65-69', 'AGEP_4:70-74', 'AGEP_4:75-79', 'AGEP_4:80-84', 'AGEP_4:85+', 'AGEP_4:nan', 'AGEP_5:under 5', 'AGEP_5:5-9', 'AGEP_5:10-14', 'AGEP_5:15-19', 'AGEP_5:20-24', 'AGEP_5:25-29', 'AGEP_5:30-34', 'AGEP_5:35-39', 'AGEP_5:40-44', 'AGEP_5:45-49', 'AGEP_5:50-54', 'AGEP_5:55-59', 'AGEP_5:60-64', 'AGEP_5:65-69', 'AGEP_5:70-74', 'AGEP_5:75-79', 'AGEP_5:80-84', 'AGEP_5:85+', 'AGEP_5:nan', 'AGEP_6:under 5', 'AGEP_6:5-9', 'AGEP_6:10-14', 'AGEP_6:15-19', 'AGEP_6:20-24', 'AGEP_6:25-29', 'AGEP_6:30-34', 'AGEP_6:35-39', 'AGEP_6:40-44', 'AGEP_6:45-49', 'AGEP_6:50-54', 'AGEP_6:55-59', 'AGEP_6:60-64', 'AGEP_6:65-69', 'AGEP_6:70-74', 'AGEP_6:75-79', 'AGEP_6:80-84', 'AGEP_6:85+', 'AGEP_6:nan', 'AGEP_7:under 5', 'AGEP_7:5-9', 'AGEP_7:10-14', 'AGEP_7:15-19', 'AGEP_7:20-24', 'AGEP_7:25-29', 'AGEP_7:30-34', 'AGEP_7:35-39', 'AGEP_7:40-44', 'AGEP_7:45-49', 'AGEP_7:50-54', 'AGEP_7:55-59', 'AGEP_7:60-64', 'AGEP_7:65-69', 'AGEP_7:70-74', 'AGEP_7:75-79', 'AGEP_7:80-84', 'AGEP_7:85+', 'AGEP_7:nan', 'AGEP_8:under 5', 'AGEP_8:5-9', 'AGEP_8:10-14', 'AGEP_8:15-19', 'AGEP_8:20-24', 'AGEP_8:25-29', 'AGEP_8:30-34', 'AGEP_8:35-39', 'AGEP_8:40-44', 'AGEP_8:45-49', 'AGEP_8:50-54', 'AGEP_8:55-59', 'AGEP_8:60-64', 'AGEP_8:65-69', 'AGEP_8:70-74', 'AGEP_8:75-79', 'AGEP_8:80-84', 'AGEP_8:85+', 'AGEP_8:nan', 'AGEP_9:under 5', 'AGEP_9:5-9', 'AGEP_9:10-14', 'AGEP_9:15-19', 'AGEP_9:20-24', 'AGEP_9:25-29', 'AGEP_9:30-34', 'AGEP_9:35-39', 'AGEP_9:40-44', 'AGEP_9:45-49', 'AGEP_9:50-54', 'AGEP_9:55-59', 'AGEP_9:60-64', 'AGEP_9:65-69', 'AGEP_9:70-74', 'AGEP_9:75-79', 'AGEP_9:80-84', 'AGEP_9:85+', 'AGEP_9:nan', 'AGEP_10:under 5', 'AGEP_10:5-9', 'AGEP_10:10-14', 'AGEP_10:15-19', 'AGEP_10:20-24', 'AGEP_10:25-29', 'AGEP_10:30-34', 'AGEP_10:35-39', 'AGEP_10:40-44', 'AGEP_10:45-49', 'AGEP_10:50-54', 'AGEP_10:55-59', 'AGEP_10:60-64', 'AGEP_10:65-69', 'AGEP_10:70-74', 'AGEP_10:75-79', 'AGEP_10:80-84', 'AGEP_10:85+', 'AGEP_10:nan', 'AGEP_11:under 5', 'AGEP_11:5-9', 'AGEP_11:10-14', 'AGEP_11:15-19', 'AGEP_11:20-24', 'AGEP_11:25-29', 'AGEP_11:30-34', 'AGEP_11:35-39', 'AGEP_11:40-44', 'AGEP_11:45-49', 'AGEP_11:50-54', 'AGEP_11:55-59', 'AGEP_11:60-64', 'AGEP_11:65-69', 'AGEP_11:70-74', 'AGEP_11:75-79', 'AGEP_11:80-84', 'AGEP_11:85+', 'AGEP_11:nan', 'AGEP_12:under 5', 'AGEP_12:5-9', 'AGEP_12:10-14', 'AGEP_12:15-19', 'AGEP_12:20-24', 'AGEP_12:25-29', 'AGEP_12:30-34', 'AGEP_12:35-39', 'AGEP_12:40-44', 'AGEP_12:45-49', 'AGEP_12:50-54', 'AGEP_12:55-59', 'AGEP_12:60-64', 'AGEP_12:65-69', 'AGEP_12:70-74', 'AGEP_12:75-79', 'AGEP_12:80-84', 'AGEP_12:85+', 'AGEP_12:nan', 'AGEP_13:under 5', 'AGEP_13:5-9', 'AGEP_13:10-14', 'AGEP_13:15-19', 'AGEP_13:20-24', 'AGEP_13:25-29', 'AGEP_13:30-34', 'AGEP_13:35-39', 'AGEP_13:40-44', 'AGEP_13:45-49', 'AGEP_13:50-54', 'AGEP_13:55-59', 'AGEP_13:60-64', 'AGEP_13:65-69', 'AGEP_13:70-74', 'AGEP_13:75-79', 'AGEP_13:80-84', 'AGEP_13:85+', 'AGEP_13:nan', 'AGEP_14:under 5', 'AGEP_14:5-9', 'AGEP_14:10-14', 'AGEP_14:15-19', 'AGEP_14:20-24', 'AGEP_14:25-29', 'AGEP_14:30-34', 'AGEP_14:35-39', 'AGEP_14:40-44', 'AGEP_14:45-49', 'AGEP_14:50-54', 'AGEP_14:55-59', 'AGEP_14:60-64', 'AGEP_14:65-69', 'AGEP_14:70-74', 'AGEP_14:75-79', 'AGEP_14:80-84', 'AGEP_14:85+', 'AGEP_14:nan', 'SCHL_1:other', 'SCHL_1:less than high school', 'SCHL_1:high school', 'SCHL_1:college or associate', 'SCHL_1:bachelor', 'SCHL_1:graduate', 'SCHL_1:nan', 'SCHL_2:other', 'SCHL_2:less than high school', 'SCHL_2:high school', 'SCHL_2:college or associate', 'SCHL_2:bachelor', 'SCHL_2:graduate', 'SCHL_2:nan', 'SCHL_3:other', 'SCHL_3:less than high school', 'SCHL_3:high school', 'SCHL_3:college or associate', 'SCHL_3:bachelor', 'SCHL_3:graduate', 'SCHL_3:nan', 'SCHL_4:other', 'SCHL_4:less than high school', 'SCHL_4:high school', 'SCHL_4:college or associate', 'SCHL_4:bachelor', 'SCHL_4:graduate', 'SCHL_4:nan', 'SCHL_5:other', 'SCHL_5:less than high school', 'SCHL_5:high school', 'SCHL_5:college or associate', 'SCHL_5:bachelor', 'SCHL_5:graduate', 'SCHL_5:nan', 'SCHL_6:other', 'SCHL_6:less than high school', 'SCHL_6:high school', 'SCHL_6:college or associate', 'SCHL_6:bachelor', 'SCHL_6:graduate', 'SCHL_6:nan', 'SCHL_7:other', 'SCHL_7:less than high school', 'SCHL_7:high school', 'SCHL_7:college or associate', 'SCHL_7:bachelor', 'SCHL_7:graduate', 'SCHL_7:nan', 'SCHL_8:other', 'SCHL_8:less than high school', 'SCHL_8:high school', 'SCHL_8:college or associate', 'SCHL_8:bachelor', 'SCHL_8:graduate', 'SCHL_8:nan', 'SCHL_9:other', 'SCHL_9:less than high school', 'SCHL_9:high school', 'SCHL_9:college or associate', 'SCHL_9:bachelor', 'SCHL_9:graduate', 'SCHL_9:nan', 'SCHL_10:other', 'SCHL_10:less than high school', 'SCHL_10:high school', 'SCHL_10:college or associate', 'SCHL_10:bachelor', 'SCHL_10:graduate', 'SCHL_10:nan', 'SCHL_11:other', 'SCHL_11:less than high school', 'SCHL_11:high school', 'SCHL_11:college or associate', 'SCHL_11:bachelor', 'SCHL_11:graduate', 'SCHL_11:nan', 'SCHL_12:other', 'SCHL_12:less than high school', 'SCHL_12:high school', 'SCHL_12:college or associate', 'SCHL_12:bachelor', 'SCHL_12:graduate', 'SCHL_12:nan', 'SCHL_13:other', 'SCHL_13:less than high school', 'SCHL_13:high school', 'SCHL_13:college or associate', 'SCHL_13:bachelor', 'SCHL_13:graduate', 'SCHL_13:nan', 'SCHL_14:other', 'SCHL_14:less than high school', 'SCHL_14:high school', 'SCHL_14:college or associate', 'SCHL_14:bachelor', 'SCHL_14:graduate', 'SCHL_14:nan']\n"
     ]
    }
   ],
   "source": [
    "# create one hot encoding\n",
    "\n",
    "# only NaN category for the persons attributes\n",
    "df_pivoted_cols = pivoted_df.columns.tolist()\n",
    "df_pivoted_cols.remove('SERIALNO')\n",
    "#print(df_pivoted_cols)\n",
    "df_non_pivot = df_flattened.drop(columns=df_pivoted_cols)\n",
    "\n",
    "df_non_pivot = pd.get_dummies(df_non_pivot, columns=df_non_pivot.columns, prefix_sep=':', dtype=int, dummy_na=False)\n",
    "\n",
    "df_pivoted = df_flattened[df_pivoted_cols]\n",
    "\n",
    "df_pivoted = pd.get_dummies(df_pivoted, columns=df_pivoted.columns, prefix_sep=':', dtype=int, dummy_na=True)\n",
    "\n",
    "df_onehot = pd.concat([df_non_pivot, df_pivoted], axis=1) \n",
    "\n",
    "\n",
    "\n",
    "# use this command to get the non nan one hot encoding \n",
    "#df_onehot = pd.get_dummies(df_flattened, columns=df_flattened.columns, prefix_sep=':', dtype=int)\n",
    "\n",
    "\n",
    "# create dummies for one hot encoding for all columns  -- Just override the previous df_onehot\n",
    "#df_onehot = pd.get_dummies(df_flattened, columns=df_flattened.columns, prefix_sep=':', dtype=int, dummy_na=True)\n",
    "\n",
    "print(list(df_onehot.columns))"
   ]
  },
  {
   "cell_type": "code",
   "execution_count": 21,
   "metadata": {},
   "outputs": [
    {
     "name": "stdout",
     "output_type": "stream",
     "text": [
      "   TEN:owned or mortgaged  TEN:rented  HHL:english  HHL:spanish  \\\n",
      "0                       1           0            1            0   \n",
      "1                       1           0            1            0   \n",
      "2                       1           0            1            0   \n",
      "3                       1           0            1            0   \n",
      "4                       1           0            1            0   \n",
      "\n",
      "   HHL:other indo-european  HHL:asian and pacific island languages  HHL:other  \\\n",
      "0                        0                                       0          0   \n",
      "1                        0                                       0          0   \n",
      "2                        0                                       0          0   \n",
      "3                        0                                       0          0   \n",
      "4                        0                                       0          0   \n",
      "\n",
      "   VEH:no vehicles  VEH:1 vehicle  VEH:2 vehicles  ...  SCHL_13:bachelor  \\\n",
      "0                0              1               0  ...                 0   \n",
      "1                0              0               1  ...                 0   \n",
      "2                0              0               1  ...                 0   \n",
      "3                0              0               0  ...                 0   \n",
      "4                0              0               1  ...                 0   \n",
      "\n",
      "   SCHL_13:graduate  SCHL_13:nan  SCHL_14:other  \\\n",
      "0                 0            1              0   \n",
      "1                 0            1              0   \n",
      "2                 0            1              0   \n",
      "3                 0            1              0   \n",
      "4                 0            1              0   \n",
      "\n",
      "   SCHL_14:less than high school  SCHL_14:high school  \\\n",
      "0                              0                    0   \n",
      "1                              0                    0   \n",
      "2                              0                    0   \n",
      "3                              0                    0   \n",
      "4                              0                    0   \n",
      "\n",
      "   SCHL_14:college or associate  SCHL_14:bachelor  SCHL_14:graduate  \\\n",
      "0                             0                 0                 0   \n",
      "1                             0                 0                 0   \n",
      "2                             0                 0                 0   \n",
      "3                             0                 0                 0   \n",
      "4                             0                 0                 0   \n",
      "\n",
      "   SCHL_14:nan  \n",
      "0            1  \n",
      "1            1  \n",
      "2            1  \n",
      "3            1  \n",
      "4            1  \n",
      "\n",
      "[5 rows x 433 columns]\n",
      "<class 'pandas.core.frame.DataFrame'>\n",
      "RangeIndex: 3156 entries, 0 to 3155\n",
      "Columns: 433 entries, TEN:owned or mortgaged to SCHL_14:nan\n",
      "dtypes: int64(433)\n",
      "memory usage: 10.4 MB\n",
      "None\n"
     ]
    }
   ],
   "source": [
    "print(df_onehot.head())\n",
    "print(df_onehot.info())"
   ]
  },
  {
   "cell_type": "code",
   "execution_count": 22,
   "metadata": {},
   "outputs": [],
   "source": [
    "# drop zero columns \n",
    "#df_onehot = df_onehot.loc[:, (df_onehot.sum() != 0)]\n",
    "df_onehot.to_csv(f'/workspace/data/{file_name}', index=False)"
   ]
  },
  {
   "cell_type": "code",
   "execution_count": 23,
   "metadata": {},
   "outputs": [
    {
     "name": "stdout",
     "output_type": "stream",
     "text": [
      "(array([0, 1]), array([1215060,  151488]))\n",
      "0.125\n"
     ]
    }
   ],
   "source": [
    "# compute ration of 0s to 1s \n",
    "\n",
    "unique_values = np.unique(df_onehot.values, return_counts=True)\n",
    "print(unique_values)\n",
    "\n",
    "# compute the ratio of 0s to 1s\n",
    "ratio = unique_values[1][1] / unique_values[1][0]\n",
    "print(f'{ratio:.3f}')"
   ]
  }
 ],
 "metadata": {
  "kernelspec": {
   "display_name": "base",
   "language": "python",
   "name": "python3"
  },
  "language_info": {
   "codemirror_mode": {
    "name": "ipython",
    "version": 3
   },
   "file_extension": ".py",
   "mimetype": "text/x-python",
   "name": "python",
   "nbconvert_exporter": "python",
   "pygments_lexer": "ipython3",
   "version": "3.10.13"
  }
 },
 "nbformat": 4,
 "nbformat_minor": 2
}
